{
 "cells": [
  {
   "cell_type": "code",
   "execution_count": 1,
   "metadata": {},
   "outputs": [
    {
     "name": "stdout",
     "output_type": "stream",
     "text": [
      "Random Seed:  999\n"
     ]
    },
    {
     "data": {
      "text/plain": [
       "'\\nnet = SSuperDCGAN(config.backbone, \\n                    latent_dim=config.latent_dim, \\n                    embed_dim=config.embed_dim,\\n                    use_lstm=config.use_lstm,\\n                    seq_size=config.seq_size,\\n                    gen_img_size=config.image_dim,\\n                    lstm_hidden=config.lstm_hidden,\\n                    lstm_dropout=config.lstm_dropout,\\n                    fc_hidden_dims=config.fc_hidden_dims,\\n                    fc_dropout=config.fc_dropout,\\n                    num_lstm_layers=config.num_lstm_layers,\\n                    masked_first=config.masked_first,\\n                    ngpu = config.ngpu,\\n                    ngf = config.ngf,\\n                    ndf = config.ndf,\\n                    nc = config.nc,\\n                    image_size=config.image_dim).to(ptu.device) \\n'"
      ]
     },
     "execution_count": 1,
     "metadata": {},
     "output_type": "execute_result"
    }
   ],
   "source": [
    "import os\n",
    "import sys\n",
    "import json\n",
    "os.path.dirname(sys.executable)\n",
    "#sys.path.append(\"/kuacc/users/ckoksal20/COMP547Project/SSuperGAN/\")\n",
    "sys.path.append(\"/home/ckoksal20/Desktop/COMP547/SSuperGAN/\")\n",
    "import torch\n",
    "from torch import optim\n",
    "from torch.utils.data import DataLoader\n",
    "from data.datasets.random_dataset import RandomDataset\n",
    "from data.datasets.golden_faces import GoldenFacesDataset\n",
    "from data.datasets.golden_panels import GoldenPanelsDataset\n",
    "\n",
    "from training.dcgan_trainer import DCGANTrainer\n",
    "from training.ssuper_dcgan_trainer import SSuperDCGANTrainer\n",
    "from utils.config_utils import read_config, Config\n",
    "from utils.logging_utils import *\n",
    "from utils.plot_utils import *\n",
    "from utils import pytorch_util as ptu\n",
    "from configs.base_config import *\n",
    "\n",
    "from networks.ssuper_dcgan import SSuperDCGAN\n",
    "from networks.ssuper_msggan import SSuperMSGGAN\n",
    "\n",
    "import torch.nn as nn\n",
    "\n",
    "\n",
    "\n",
    "\n",
    "\"\"\"\n",
    "net = SSuperDCGAN(config.backbone, \n",
    "                    latent_dim=config.latent_dim, \n",
    "                    embed_dim=config.embed_dim,\n",
    "                    use_lstm=config.use_lstm,\n",
    "                    seq_size=config.seq_size,\n",
    "                    gen_img_size=config.image_dim,\n",
    "                    lstm_hidden=config.lstm_hidden,\n",
    "                    lstm_dropout=config.lstm_dropout,\n",
    "                    fc_hidden_dims=config.fc_hidden_dims,\n",
    "                    fc_dropout=config.fc_dropout,\n",
    "                    num_lstm_layers=config.num_lstm_layers,\n",
    "                    masked_first=config.masked_first,\n",
    "                    ngpu = config.ngpu,\n",
    "                    ngf = config.ngf,\n",
    "                    ndf = config.ndf,\n",
    "                    nc = config.nc,\n",
    "                    image_size=config.image_dim).to(ptu.device) \n",
    "\"\"\"    "
   ]
  },
  {
   "cell_type": "code",
   "execution_count": 2,
   "metadata": {},
   "outputs": [],
   "source": [
    "config = read_config(Config.SSUPER_MSGGAN)"
   ]
  },
  {
   "cell_type": "code",
   "execution_count": 3,
   "metadata": {},
   "outputs": [
    {
     "name": "stdout",
     "output_type": "stream",
     "text": [
      "Loaded pretrained weights for efficientnet-b5\n",
      "DISCRIMINATOE Depth :  5  feature_size :  512\n",
      "RGB TO FEATURES  ModuleList(\n",
      "  (0): EqualConv2d(\n",
      "    (conv): Conv2d(3, 256, kernel_size=(1, 1), stride=(1, 1))\n",
      "  )\n",
      "  (1): EqualConv2d(\n",
      "    (conv): Conv2d(3, 256, kernel_size=(1, 1), stride=(1, 1))\n",
      "  )\n",
      "  (2): EqualConv2d(\n",
      "    (conv): Conv2d(3, 256, kernel_size=(1, 1), stride=(1, 1))\n",
      "  )\n",
      "  (3): EqualConv2d(\n",
      "    (conv): Conv2d(3, 256, kernel_size=(1, 1), stride=(1, 1))\n",
      "  )\n",
      ") \n",
      "\n",
      "DISC LAYERS :  ModuleList(\n",
      "  (0): DisGeneralConvBlock(\n",
      "    (conv_1): EqualConv2d(\n",
      "      (conv): Conv2d(512, 512, kernel_size=(3, 3), stride=(1, 1), padding=(1, 1))\n",
      "    )\n",
      "    (conv_2): EqualConv2d(\n",
      "      (conv): Conv2d(512, 256, kernel_size=(3, 3), stride=(1, 1), padding=(1, 1))\n",
      "    )\n",
      "    (downSampler): AvgPool2d(kernel_size=2, stride=2, padding=0)\n",
      "    (lrelu): LeakyReLU(negative_slope=0.2)\n",
      "  )\n",
      "  (1): DisGeneralConvBlock(\n",
      "    (conv_1): EqualConv2d(\n",
      "      (conv): Conv2d(512, 512, kernel_size=(3, 3), stride=(1, 1), padding=(1, 1))\n",
      "    )\n",
      "    (conv_2): EqualConv2d(\n",
      "      (conv): Conv2d(512, 256, kernel_size=(3, 3), stride=(1, 1), padding=(1, 1))\n",
      "    )\n",
      "    (downSampler): AvgPool2d(kernel_size=2, stride=2, padding=0)\n",
      "    (lrelu): LeakyReLU(negative_slope=0.2)\n",
      "  )\n",
      "  (2): DisGeneralConvBlock(\n",
      "    (conv_1): EqualConv2d(\n",
      "      (conv): Conv2d(512, 512, kernel_size=(3, 3), stride=(1, 1), padding=(1, 1))\n",
      "    )\n",
      "    (conv_2): EqualConv2d(\n",
      "      (conv): Conv2d(512, 256, kernel_size=(3, 3), stride=(1, 1), padding=(1, 1))\n",
      "    )\n",
      "    (downSampler): AvgPool2d(kernel_size=2, stride=2, padding=0)\n",
      "    (lrelu): LeakyReLU(negative_slope=0.2)\n",
      "  )\n",
      "  (3): DisGeneralConvBlock(\n",
      "    (conv_1): EqualConv2d(\n",
      "      (conv): Conv2d(256, 256, kernel_size=(3, 3), stride=(1, 1), padding=(1, 1))\n",
      "    )\n",
      "    (conv_2): EqualConv2d(\n",
      "      (conv): Conv2d(256, 256, kernel_size=(3, 3), stride=(1, 1), padding=(1, 1))\n",
      "    )\n",
      "    (downSampler): AvgPool2d(kernel_size=2, stride=2, padding=0)\n",
      "    (lrelu): LeakyReLU(negative_slope=0.2)\n",
      "  )\n",
      ")\n"
     ]
    }
   ],
   "source": [
    "net = SSuperMSGGAN(config.backbone, \n",
    "                    latent_dim=config.latent_dim, \n",
    "                    embed_dim=config.embed_dim,\n",
    "                    use_lstm=config.use_lstm,\n",
    "                    seq_size=config.seq_size,\n",
    "                    lstm_hidden=config.lstm_hidden,\n",
    "                    lstm_dropout=config.lstm_dropout,\n",
    "                    fc_hidden_dims=config.fc_hidden_dims,\n",
    "                    fc_dropout=config.fc_dropout,\n",
    "                    num_lstm_layers=config.num_lstm_layers,\n",
    "                    masked_first=config.masked_first,\n",
    "                    depth = config.depth,\n",
    "                    use_eql = config.use_eql,\n",
    "                    use_ema = config.use_ema,\n",
    "                    ema_decay = config.ema_decay).to(ptu.device) "
   ]
  },
  {
   "cell_type": "code",
   "execution_count": 4,
   "metadata": {},
   "outputs": [],
   "source": [
    "data = torch.randn(1,3, 3, 360, 360)"
   ]
  },
  {
   "cell_type": "code",
   "execution_count": 5,
   "metadata": {},
   "outputs": [
    {
     "name": "stdout",
     "output_type": "stream",
     "text": [
      "Z shape torch.Size([1, 512]) X shape  torch.Size([1, 3, 3, 360, 360])\n"
     ]
    }
   ],
   "source": [
    "out,out2 = net(data)"
   ]
  },
  {
   "cell_type": "code",
   "execution_count": 6,
   "metadata": {},
   "outputs": [
    {
     "data": {
      "text/plain": [
       "torch.Size([1, 3, 64, 64])"
      ]
     },
     "execution_count": 6,
     "metadata": {},
     "output_type": "execute_result"
    }
   ],
   "source": [
    "out[-1].shape"
   ]
  },
  {
   "cell_type": "code",
   "execution_count": null,
   "metadata": {},
   "outputs": [],
   "source": []
  }
 ],
 "metadata": {
  "kernelspec": {
   "display_name": "detectron4",
   "language": "python",
   "name": "detectron4"
  },
  "language_info": {
   "codemirror_mode": {
    "name": "ipython",
    "version": 3
   },
   "file_extension": ".py",
   "mimetype": "text/x-python",
   "name": "python",
   "nbconvert_exporter": "python",
   "pygments_lexer": "ipython3",
   "version": "3.8.5"
  }
 },
 "nbformat": 4,
 "nbformat_minor": 4
}
