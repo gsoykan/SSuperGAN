{
 "cells": [
  {
   "cell_type": "code",
   "execution_count": 1,
   "metadata": {},
   "outputs": [
    {
     "name": "stdout",
     "output_type": "stream",
     "text": [
      "Random Seed:  999\n"
     ]
    },
    {
     "data": {
      "text/plain": [
       "'\\nnet = SSuperDCGAN(config.backbone, \\n                    latent_dim=config.latent_dim, \\n                    embed_dim=config.embed_dim,\\n                    use_lstm=config.use_lstm,\\n                    seq_size=config.seq_size,\\n                    gen_img_size=config.image_dim,\\n                    lstm_hidden=config.lstm_hidden,\\n                    lstm_dropout=config.lstm_dropout,\\n                    fc_hidden_dims=config.fc_hidden_dims,\\n                    fc_dropout=config.fc_dropout,\\n                    num_lstm_layers=config.num_lstm_layers,\\n                    masked_first=config.masked_first,\\n                    ngpu = config.ngpu,\\n                    ngf = config.ngf,\\n                    ndf = config.ndf,\\n                    nc = config.nc,\\n                    image_size=config.image_dim).to(ptu.device) \\n'"
      ]
     },
     "execution_count": 1,
     "metadata": {},
     "output_type": "execute_result"
    }
   ],
   "source": [
    "import os\n",
    "import sys\n",
    "import json\n",
    "os.path.dirname(sys.executable)\n",
    "sys.path.append(\"/kuacc/users/ckoksal20/COMP547Project/SSuperGAN/\")\n",
    "#sys.path.append(\"/home/ckoksal20/Desktop/COMP547/SSuperGAN/\")\n",
    "import torch\n",
    "from torch import optim\n",
    "from torch.utils.data import DataLoader\n",
    "from data.datasets.random_dataset import RandomDataset\n",
    "from data.datasets.golden_faces import GoldenFacesDataset\n",
    "from data.datasets.golden_panels import GoldenPanelsDataset\n",
    "\n",
    "from training.dcgan_trainer import DCGANTrainer\n",
    "from training.ssuper_dcgan_trainer import SSuperDCGANTrainer\n",
    "from utils.config_utils import read_config, Config\n",
    "from utils.logging_utils import *\n",
    "from utils.plot_utils import *\n",
    "from utils import pytorch_util as ptu\n",
    "from configs.base_config import *\n",
    "\n",
    "from networks.ssuper_dcgan import SSuperDCGAN\n",
    "from networks.ssuper_msggan import SSuperMSGGAN\n",
    "\n",
    "import torch.nn as nn\n",
    "\n",
    "\n",
    "\n",
    "\n",
    "\"\"\"\n",
    "net = SSuperDCGAN(config.backbone, \n",
    "                    latent_dim=config.latent_dim, \n",
    "                    embed_dim=config.embed_dim,\n",
    "                    use_lstm=config.use_lstm,\n",
    "                    seq_size=config.seq_size,\n",
    "                    gen_img_size=config.image_dim,\n",
    "                    lstm_hidden=config.lstm_hidden,\n",
    "                    lstm_dropout=config.lstm_dropout,\n",
    "                    fc_hidden_dims=config.fc_hidden_dims,\n",
    "                    fc_dropout=config.fc_dropout,\n",
    "                    num_lstm_layers=config.num_lstm_layers,\n",
    "                    masked_first=config.masked_first,\n",
    "                    ngpu = config.ngpu,\n",
    "                    ngf = config.ngf,\n",
    "                    ndf = config.ndf,\n",
    "                    nc = config.nc,\n",
    "                    image_size=config.image_dim).to(ptu.device) \n",
    "\"\"\"    "
   ]
  },
  {
   "cell_type": "code",
   "execution_count": 2,
   "metadata": {},
   "outputs": [],
   "source": [
    "config = read_config(Config.SSUPER_MSGGAN)"
   ]
  },
  {
   "cell_type": "code",
   "execution_count": null,
   "metadata": {},
   "outputs": [],
   "source": [
    "net = SSuperMSGGAN(config.backbone, \n",
    "                    latent_dim=config.latent_dim, \n",
    "                    embed_dim=config.embed_dim,\n",
    "                    use_lstm=config.use_lstm,\n",
    "                    seq_size=config.seq_size,\n",
    "                    lstm_hidden=config.lstm_hidden,\n",
    "                    lstm_dropout=config.lstm_dropout,\n",
    "                    fc_hidden_dims=config.fc_hidden_dims,\n",
    "                    fc_dropout=config.fc_dropout,\n",
    "                    num_lstm_layers=config.num_lstm_layers,\n",
    "                    masked_first=config.masked_first,\n",
    "                    depth = config.depth,\n",
    "                    use_eql = config.use_eql,\n",
    "                    use_ema = config.use_ema,\n",
    "                    ema_decay = config.ema_decay).to(ptu.device) "
   ]
  },
  {
   "cell_type": "code",
   "execution_count": null,
   "metadata": {},
   "outputs": [],
   "source": [
    "data = torch.randn(1,3, 3, 360, 360)"
   ]
  },
  {
   "cell_type": "code",
   "execution_count": null,
   "metadata": {},
   "outputs": [],
   "source": [
    "out,out2 = net(data)"
   ]
  },
  {
   "cell_type": "code",
   "execution_count": null,
   "metadata": {},
   "outputs": [],
   "source": [
    "out[-1].shape"
   ]
  },
  {
   "cell_type": "code",
   "execution_count": null,
   "metadata": {},
   "outputs": [
    {
     "name": "stdout",
     "output_type": "stream",
     "text": [
      "Loaded pretrained weights for efficientnet-b5\n"
     ]
    },
    {
     "name": "stderr",
     "output_type": "stream",
     "text": [
      "  0%|          | 0/18016 [00:00<?, ?it/s]"
     ]
    },
    {
     "name": "stdout",
     "output_type": "stream",
     "text": [
      "DISCRIMINATOE Depth :  5  feature_size :  512\n",
      "RGB TO FEATURES  ModuleList(\n",
      "  (0): EqualConv2d(\n",
      "    (conv): Conv2d(3, 256, kernel_size=(1, 1), stride=(1, 1))\n",
      "  )\n",
      "  (1): EqualConv2d(\n",
      "    (conv): Conv2d(3, 256, kernel_size=(1, 1), stride=(1, 1))\n",
      "  )\n",
      "  (2): EqualConv2d(\n",
      "    (conv): Conv2d(3, 256, kernel_size=(1, 1), stride=(1, 1))\n",
      "  )\n",
      "  (3): EqualConv2d(\n",
      "    (conv): Conv2d(3, 256, kernel_size=(1, 1), stride=(1, 1))\n",
      "  )\n",
      ") \n",
      "\n",
      "DISC LAYERS :  ModuleList(\n",
      "  (0): DisGeneralConvBlock(\n",
      "    (conv_1): EqualConv2d(\n",
      "      (conv): Conv2d(512, 512, kernel_size=(3, 3), stride=(1, 1), padding=(1, 1))\n",
      "    )\n",
      "    (conv_2): EqualConv2d(\n",
      "      (conv): Conv2d(512, 256, kernel_size=(3, 3), stride=(1, 1), padding=(1, 1))\n",
      "    )\n",
      "    (downSampler): AvgPool2d(kernel_size=2, stride=2, padding=0)\n",
      "    (lrelu): LeakyReLU(negative_slope=0.2)\n",
      "  )\n",
      "  (1): DisGeneralConvBlock(\n",
      "    (conv_1): EqualConv2d(\n",
      "      (conv): Conv2d(512, 512, kernel_size=(3, 3), stride=(1, 1), padding=(1, 1))\n",
      "    )\n",
      "    (conv_2): EqualConv2d(\n",
      "      (conv): Conv2d(512, 256, kernel_size=(3, 3), stride=(1, 1), padding=(1, 1))\n",
      "    )\n",
      "    (downSampler): AvgPool2d(kernel_size=2, stride=2, padding=0)\n",
      "    (lrelu): LeakyReLU(negative_slope=0.2)\n",
      "  )\n",
      "  (2): DisGeneralConvBlock(\n",
      "    (conv_1): EqualConv2d(\n",
      "      (conv): Conv2d(512, 512, kernel_size=(3, 3), stride=(1, 1), padding=(1, 1))\n",
      "    )\n",
      "    (conv_2): EqualConv2d(\n",
      "      (conv): Conv2d(512, 256, kernel_size=(3, 3), stride=(1, 1), padding=(1, 1))\n",
      "    )\n",
      "    (downSampler): AvgPool2d(kernel_size=2, stride=2, padding=0)\n",
      "    (lrelu): LeakyReLU(negative_slope=0.2)\n",
      "  )\n",
      "  (3): DisGeneralConvBlock(\n",
      "    (conv_1): EqualConv2d(\n",
      "      (conv): Conv2d(256, 256, kernel_size=(3, 3), stride=(1, 1), padding=(1, 1))\n",
      "    )\n",
      "    (conv_2): EqualConv2d(\n",
      "      (conv): Conv2d(256, 256, kernel_size=(3, 3), stride=(1, 1), padding=(1, 1))\n",
      "    )\n",
      "    (downSampler): AvgPool2d(kernel_size=2, stride=2, padding=0)\n",
      "    (lrelu): LeakyReLU(negative_slope=0.2)\n",
      "  )\n",
      ")\n",
      "Total epochs  100\n",
      "Z shape torch.Size([4, 512]) X shape  torch.Size([4, 3, 3, 300, 300])\n",
      "Y.shape First torch.Size([4, 256, 64, 64])\n",
      "Y.shape Second torch.Size([4, 256, 32, 32])\n",
      "Y.shape First torch.Size([4, 256, 64, 64])\n",
      "Y.shape Second torch.Size([4, 256, 32, 32])\n",
      "Y.shape First torch.Size([4, 256, 64, 64])\n",
      "Y.shape Second torch.Size([4, 256, 32, 32])\n"
     ]
    },
    {
     "name": "stderr",
     "output_type": "stream",
     "text": [
      "Epoch 0, loss 14702.7666, reconstruction_loss 14697.4727, kl_loss 5.2942, disc_loss 0.1284, gen_loss 1472.8979:   0%|          | 4/18016 [00:03<3:59:04,  1.26it/s]"
     ]
    },
    {
     "name": "stdout",
     "output_type": "stream",
     "text": [
      "Z shape torch.Size([4, 512]) X shape  torch.Size([4, 3, 3, 300, 300])\n",
      "Y.shape First torch.Size([4, 256, 64, 64])\n",
      "Y.shape Second torch.Size([4, 256, 32, 32])\n",
      "Y.shape First torch.Size([4, 256, 64, 64])\n",
      "Y.shape Second torch.Size([4, 256, 32, 32])\n",
      "Y.shape First torch.Size([4, 256, 64, 64])\n",
      "Y.shape Second torch.Size([4, 256, 32, 32])\n"
     ]
    },
    {
     "name": "stderr",
     "output_type": "stream",
     "text": [
      "Epoch 0, loss 14792.8828, reconstruction_loss 14787.6182, kl_loss 5.2648, disc_loss -1.5749, gen_loss 1483.3214:   0%|          | 8/18016 [00:04<2:30:44,  1.99it/s]"
     ]
    },
    {
     "name": "stdout",
     "output_type": "stream",
     "text": [
      "Z shape torch.Size([4, 512]) X shape  torch.Size([4, 3, 3, 300, 300])\n",
      "Y.shape First torch.Size([4, 256, 64, 64])\n",
      "Y.shape Second torch.Size([4, 256, 32, 32])\n",
      "Y.shape First torch.Size([4, 256, 64, 64])\n",
      "Y.shape Second torch.Size([4, 256, 32, 32])\n",
      "Y.shape First torch.Size([4, 256, 64, 64])\n",
      "Y.shape Second torch.Size([4, 256, 32, 32])\n"
     ]
    },
    {
     "name": "stderr",
     "output_type": "stream",
     "text": [
      "Epoch 0, loss 14521.2393, reconstruction_loss 14516.0247, kl_loss 5.2146, disc_loss -2.8414, gen_loss 1457.3680:   0%|          | 12/18016 [00:05<2:03:04,  2.44it/s]"
     ]
    },
    {
     "name": "stdout",
     "output_type": "stream",
     "text": [
      "Z shape torch.Size([4, 512]) X shape  torch.Size([4, 3, 3, 300, 300])\n",
      "Y.shape First torch.Size([4, 256, 64, 64])\n",
      "Y.shape Second torch.Size([4, 256, 32, 32])\n",
      "Y.shape First torch.Size([4, 256, 64, 64])\n",
      "Y.shape Second torch.Size([4, 256, 32, 32])\n",
      "Y.shape First torch.Size([4, 256, 64, 64])\n",
      "Y.shape Second torch.Size([4, 256, 32, 32])\n"
     ]
    },
    {
     "name": "stderr",
     "output_type": "stream",
     "text": [
      "Epoch 0, loss 14182.6775, reconstruction_loss 14177.5127, kl_loss 5.1650, disc_loss -4.3975, gen_loss 1424.7616:   0%|          | 16/18016 [00:06<1:49:45,  2.73it/s]"
     ]
    },
    {
     "name": "stdout",
     "output_type": "stream",
     "text": [
      "Z shape torch.Size([4, 512]) X shape  torch.Size([4, 3, 3, 300, 300])\n",
      "Y.shape First torch.Size([4, 256, 64, 64])\n",
      "Y.shape Second torch.Size([4, 256, 32, 32])\n",
      "Y.shape First torch.Size([4, 256, 64, 64])\n",
      "Y.shape Second torch.Size([4, 256, 32, 32])\n",
      "Y.shape First torch.Size([4, 256, 64, 64])\n",
      "Y.shape Second torch.Size([4, 256, 32, 32])\n"
     ]
    },
    {
     "name": "stderr",
     "output_type": "stream",
     "text": [
      "Epoch 0, loss 14056.0875, reconstruction_loss 14050.9539, kl_loss 5.1338, disc_loss -5.8327, gen_loss 1413.3897:   0%|          | 20/18016 [00:07<1:42:20,  2.93it/s]"
     ]
    },
    {
     "name": "stdout",
     "output_type": "stream",
     "text": [
      "Z shape torch.Size([4, 512]) X shape  torch.Size([4, 3, 3, 300, 300])\n",
      "Y.shape First torch.Size([4, 256, 64, 64])\n",
      "Y.shape Second torch.Size([4, 256, 32, 32])\n",
      "Y.shape First torch.Size([4, 256, 64, 64])\n",
      "Y.shape Second torch.Size([4, 256, 32, 32])\n",
      "Y.shape First torch.Size([4, 256, 64, 64])\n",
      "Y.shape Second torch.Size([4, 256, 32, 32])\n"
     ]
    },
    {
     "name": "stderr",
     "output_type": "stream",
     "text": [
      "Epoch 0, loss 13887.1387, reconstruction_loss 13881.9769, kl_loss 5.1619, disc_loss -7.4456, gen_loss 1397.8300:   0%|          | 24/18016 [00:09<1:37:45,  3.07it/s]"
     ]
    },
    {
     "name": "stdout",
     "output_type": "stream",
     "text": [
      "Z shape torch.Size([4, 512]) X shape  torch.Size([4, 3, 3, 300, 300])\n",
      "Y.shape First torch.Size([4, 256, 64, 64])\n",
      "Y.shape Second torch.Size([4, 256, 32, 32])\n",
      "Y.shape First torch.Size([4, 256, 64, 64])\n",
      "Y.shape Second torch.Size([4, 256, 32, 32])\n",
      "Y.shape First torch.Size([4, 256, 64, 64])\n",
      "Y.shape Second torch.Size([4, 256, 32, 32])\n"
     ]
    },
    {
     "name": "stderr",
     "output_type": "stream",
     "text": [
      "Epoch 0, loss 13730.0858, reconstruction_loss 13724.9058, kl_loss 5.1800, disc_loss -8.9291, gen_loss 1383.5256:   0%|          | 28/18016 [00:10<1:34:56,  3.16it/s]"
     ]
    },
    {
     "name": "stdout",
     "output_type": "stream",
     "text": [
      "Z shape torch.Size([4, 512]) X shape  torch.Size([4, 3, 3, 300, 300])\n",
      "Y.shape First torch.Size([4, 256, 64, 64])\n",
      "Y.shape Second torch.Size([4, 256, 32, 32])\n",
      "Y.shape First torch.Size([4, 256, 64, 64])\n",
      "Y.shape Second torch.Size([4, 256, 32, 32])\n",
      "Y.shape First torch.Size([4, 256, 64, 64])\n",
      "Y.shape Second torch.Size([4, 256, 32, 32])\n"
     ]
    },
    {
     "name": "stderr",
     "output_type": "stream",
     "text": [
      "Epoch 0, loss 13676.4655, reconstruction_loss 13671.2379, kl_loss 5.2276, disc_loss -10.4652, gen_loss 1379.6364:   0%|          | 32/18016 [00:11<1:33:15,  3.21it/s]"
     ]
    },
    {
     "name": "stdout",
     "output_type": "stream",
     "text": [
      "Z shape torch.Size([4, 512]) X shape  torch.Size([4, 3, 3, 300, 300])\n",
      "Y.shape First torch.Size([4, 256, 64, 64])\n",
      "Y.shape Second torch.Size([4, 256, 32, 32])\n",
      "Y.shape First torch.Size([4, 256, 64, 64])\n",
      "Y.shape Second torch.Size([4, 256, 32, 32])\n",
      "Y.shape First torch.Size([4, 256, 64, 64])\n",
      "Y.shape Second torch.Size([4, 256, 32, 32])\n"
     ]
    },
    {
     "name": "stderr",
     "output_type": "stream",
     "text": [
      "Epoch 0, loss 13699.4505, reconstruction_loss 13694.1489, kl_loss 5.3017, disc_loss -12.2234, gen_loss 1383.5012:   0%|          | 36/18016 [00:12<1:32:22,  3.24it/s]"
     ]
    },
    {
     "name": "stdout",
     "output_type": "stream",
     "text": [
      "Z shape torch.Size([4, 512]) X shape  torch.Size([4, 3, 3, 300, 300])\n",
      "Y.shape First torch.Size([4, 256, 64, 64])\n",
      "Y.shape Second torch.Size([4, 256, 32, 32])\n",
      "Y.shape First torch.Size([4, 256, 64, 64])\n",
      "Y.shape Second torch.Size([4, 256, 32, 32])\n",
      "Y.shape First torch.Size([4, 256, 64, 64])\n",
      "Y.shape Second torch.Size([4, 256, 32, 32])\n"
     ]
    },
    {
     "name": "stderr",
     "output_type": "stream",
     "text": [
      "Epoch 0, loss 13688.3644, reconstruction_loss 13683.0880, kl_loss 5.2764, disc_loss -14.0625, gen_loss 1384.0839:   0%|          | 40/18016 [00:13<1:31:38,  3.27it/s]"
     ]
    },
    {
     "name": "stdout",
     "output_type": "stream",
     "text": [
      "Z shape torch.Size([4, 512]) X shape  torch.Size([4, 3, 3, 300, 300])\n",
      "Y.shape First torch.Size([4, 256, 64, 64])\n",
      "Y.shape Second torch.Size([4, 256, 32, 32])\n",
      "Y.shape First torch.Size([4, 256, 64, 64])\n",
      "Y.shape Second torch.Size([4, 256, 32, 32])\n",
      "Y.shape First torch.Size([4, 256, 64, 64])\n",
      "Y.shape Second torch.Size([4, 256, 32, 32])\n"
     ]
    },
    {
     "name": "stderr",
     "output_type": "stream",
     "text": [
      "Epoch 0, loss 13592.8271, reconstruction_loss 13587.5728, kl_loss 5.2543, disc_loss -16.2719, gen_loss 1376.4724:   0%|          | 44/18016 [00:15<1:30:53,  3.30it/s]"
     ]
    },
    {
     "name": "stdout",
     "output_type": "stream",
     "text": [
      "Z shape torch.Size([4, 512]) X shape  torch.Size([4, 3, 3, 300, 300])\n",
      "Y.shape First torch.Size([4, 256, 64, 64])\n",
      "Y.shape Second torch.Size([4, 256, 32, 32])\n",
      "Y.shape First torch.Size([4, 256, 64, 64])\n",
      "Y.shape Second torch.Size([4, 256, 32, 32])\n",
      "Y.shape First torch.Size([4, 256, 64, 64])\n",
      "Y.shape Second torch.Size([4, 256, 32, 32])\n"
     ]
    },
    {
     "name": "stderr",
     "output_type": "stream",
     "text": [
      "Epoch 0, loss 13520.8276, reconstruction_loss 13515.5547, kl_loss 5.2729, disc_loss -18.8132, gen_loss 1371.4866:   0%|          | 48/18016 [00:16<1:30:37,  3.30it/s]"
     ]
    },
    {
     "name": "stdout",
     "output_type": "stream",
     "text": [
      "Z shape torch.Size([4, 512]) X shape  torch.Size([4, 3, 3, 300, 300])\n",
      "Y.shape First torch.Size([4, 256, 64, 64])\n",
      "Y.shape Second torch.Size([4, 256, 32, 32])\n",
      "Y.shape First torch.Size([4, 256, 64, 64])\n",
      "Y.shape Second torch.Size([4, 256, 32, 32])\n",
      "Y.shape First torch.Size([4, 256, 64, 64])\n",
      "Y.shape Second torch.Size([4, 256, 32, 32])\n"
     ]
    },
    {
     "name": "stderr",
     "output_type": "stream",
     "text": [
      "Epoch 0, loss 13513.2621, reconstruction_loss 13507.9657, kl_loss 5.2964, disc_loss -21.4779, gen_loss 1373.1929:   0%|          | 52/18016 [00:17<1:30:35,  3.30it/s]"
     ]
    },
    {
     "name": "stdout",
     "output_type": "stream",
     "text": [
      "Z shape torch.Size([4, 512]) X shape  torch.Size([4, 3, 3, 300, 300])\n",
      "Y.shape First torch.Size([4, 256, 64, 64])\n",
      "Y.shape Second torch.Size([4, 256, 32, 32])\n",
      "Y.shape First torch.Size([4, 256, 64, 64])\n",
      "Y.shape Second torch.Size([4, 256, 32, 32])\n",
      "Y.shape First torch.Size([4, 256, 64, 64])\n",
      "Y.shape Second torch.Size([4, 256, 32, 32])\n"
     ]
    },
    {
     "name": "stderr",
     "output_type": "stream",
     "text": [
      "Epoch 0, loss 13506.0146, reconstruction_loss 13500.7471, kl_loss 5.2674, disc_loss -24.8536, gen_loss 1375.2719:   0%|          | 56/18016 [00:18<1:30:36,  3.30it/s]"
     ]
    },
    {
     "name": "stdout",
     "output_type": "stream",
     "text": [
      "Z shape torch.Size([4, 512]) X shape  torch.Size([4, 3, 3, 300, 300])\n",
      "Y.shape First torch.Size([4, 256, 64, 64])\n",
      "Y.shape Second torch.Size([4, 256, 32, 32])\n",
      "Y.shape First torch.Size([4, 256, 64, 64])\n",
      "Y.shape Second torch.Size([4, 256, 32, 32])\n",
      "Y.shape First torch.Size([4, 256, 64, 64])\n",
      "Y.shape Second torch.Size([4, 256, 32, 32])\n"
     ]
    },
    {
     "name": "stderr",
     "output_type": "stream",
     "text": [
      "Epoch 0, loss 13450.4014, reconstruction_loss 13445.1514, kl_loss 5.2501, disc_loss -28.8178, gen_loss 1373.0034:   0%|          | 60/18016 [00:19<1:30:27,  3.31it/s]"
     ]
    },
    {
     "name": "stdout",
     "output_type": "stream",
     "text": [
      "Z shape torch.Size([4, 512]) X shape  torch.Size([4, 3, 3, 300, 300])\n",
      "Y.shape First torch.Size([4, 256, 64, 64])\n",
      "Y.shape Second torch.Size([4, 256, 32, 32])\n",
      "Y.shape First torch.Size([4, 256, 64, 64])\n",
      "Y.shape Second torch.Size([4, 256, 32, 32])\n",
      "Y.shape First torch.Size([4, 256, 64, 64])\n",
      "Y.shape Second torch.Size([4, 256, 32, 32])\n"
     ]
    },
    {
     "name": "stderr",
     "output_type": "stream",
     "text": [
      "Epoch 0, loss 13423.8666, reconstruction_loss 13418.6351, kl_loss 5.2315, disc_loss -34.3069, gen_loss 1374.4197:   0%|          | 64/18016 [00:21<1:30:07,  3.32it/s]"
     ]
    },
    {
     "name": "stdout",
     "output_type": "stream",
     "text": [
      "Z shape torch.Size([4, 512]) X shape  torch.Size([4, 3, 3, 300, 300])\n",
      "Y.shape First torch.Size([4, 256, 64, 64])\n",
      "Y.shape Second torch.Size([4, 256, 32, 32])\n",
      "Y.shape First torch.Size([4, 256, 64, 64])\n",
      "Y.shape Second torch.Size([4, 256, 32, 32])\n",
      "Y.shape First torch.Size([4, 256, 64, 64])\n",
      "Y.shape Second torch.Size([4, 256, 32, 32])\n"
     ]
    },
    {
     "name": "stderr",
     "output_type": "stream",
     "text": [
      "Epoch 0, loss 13378.6276, reconstruction_loss 13373.4134, kl_loss 5.2142, disc_loss -40.3000, gen_loss 1375.3708:   0%|          | 68/18016 [00:22<1:30:08,  3.32it/s]"
     ]
    },
    {
     "name": "stdout",
     "output_type": "stream",
     "text": [
      "Z shape torch.Size([4, 512]) X shape  torch.Size([4, 3, 3, 300, 300])\n",
      "Y.shape First torch.Size([4, 256, 64, 64])\n",
      "Y.shape Second torch.Size([4, 256, 32, 32])\n",
      "Y.shape First torch.Size([4, 256, 64, 64])\n",
      "Y.shape Second torch.Size([4, 256, 32, 32])\n",
      "Y.shape First torch.Size([4, 256, 64, 64])\n",
      "Y.shape Second torch.Size([4, 256, 32, 32])\n"
     ]
    },
    {
     "name": "stderr",
     "output_type": "stream",
     "text": [
      "Epoch 0, loss 13359.4844, reconstruction_loss 13354.2775, kl_loss 5.2069, disc_loss -47.9281, gen_loss 1380.0212:   0%|          | 72/18016 [00:23<1:29:48,  3.33it/s]"
     ]
    },
    {
     "name": "stdout",
     "output_type": "stream",
     "text": [
      "Z shape torch.Size([4, 512]) X shape  torch.Size([4, 3, 3, 300, 300])\n",
      "Y.shape First torch.Size([4, 256, 64, 64])\n",
      "Y.shape Second torch.Size([4, 256, 32, 32])\n",
      "Y.shape First torch.Size([4, 256, 64, 64])\n",
      "Y.shape Second torch.Size([4, 256, 32, 32])\n",
      "Y.shape First torch.Size([4, 256, 64, 64])\n",
      "Y.shape Second torch.Size([4, 256, 32, 32])\n"
     ]
    },
    {
     "name": "stderr",
     "output_type": "stream",
     "text": [
      "Epoch 0, loss 13348.1412, reconstruction_loss 13342.9030, kl_loss 5.2382, disc_loss -58.1878, gen_loss 1386.1890:   0%|          | 76/18016 [00:24<1:29:42,  3.33it/s]"
     ]
    },
    {
     "name": "stdout",
     "output_type": "stream",
     "text": [
      "Z shape torch.Size([4, 512]) X shape  torch.Size([4, 3, 3, 300, 300])\n",
      "Y.shape First torch.Size([4, 256, 64, 64])\n",
      "Y.shape Second torch.Size([4, 256, 32, 32])\n",
      "Y.shape First torch.Size([4, 256, 64, 64])\n",
      "Y.shape Second torch.Size([4, 256, 32, 32])\n",
      "Y.shape First torch.Size([4, 256, 64, 64])\n",
      "Y.shape Second torch.Size([4, 256, 32, 32])\n"
     ]
    },
    {
     "name": "stderr",
     "output_type": "stream",
     "text": [
      "Epoch 0, loss 13321.4661, reconstruction_loss 13316.2349, kl_loss 5.2312, disc_loss -69.9332, gen_loss 1392.9529:   0%|          | 80/18016 [00:25<1:29:39,  3.33it/s]"
     ]
    },
    {
     "name": "stdout",
     "output_type": "stream",
     "text": [
      "Z shape torch.Size([4, 512]) X shape  torch.Size([4, 3, 3, 300, 300])\n",
      "Y.shape First torch.Size([4, 256, 64, 64])\n",
      "Y.shape Second torch.Size([4, 256, 32, 32])\n",
      "Y.shape First torch.Size([4, 256, 64, 64])\n",
      "Y.shape Second torch.Size([4, 256, 32, 32])\n",
      "Y.shape First torch.Size([4, 256, 64, 64])\n",
      "Y.shape Second torch.Size([4, 256, 32, 32])\n"
     ]
    },
    {
     "name": "stderr",
     "output_type": "stream",
     "text": [
      "Epoch 0, loss 13315.5368, reconstruction_loss 13310.3044, kl_loss 5.2324, disc_loss -88.2355, gen_loss 1407.0460:   0%|          | 84/18016 [00:27<1:29:38,  3.33it/s]"
     ]
    },
    {
     "name": "stdout",
     "output_type": "stream",
     "text": [
      "Z shape torch.Size([4, 512]) X shape  torch.Size([4, 3, 3, 300, 300])\n",
      "Y.shape First torch.Size([4, 256, 64, 64])\n",
      "Y.shape Second torch.Size([4, 256, 32, 32])\n",
      "Y.shape First torch.Size([4, 256, 64, 64])\n",
      "Y.shape Second torch.Size([4, 256, 32, 32])\n",
      "Y.shape First torch.Size([4, 256, 64, 64])\n",
      "Y.shape Second torch.Size([4, 256, 32, 32])\n"
     ]
    },
    {
     "name": "stderr",
     "output_type": "stream",
     "text": [
      "Epoch 0, loss 13312.1160, reconstruction_loss 13306.8941, kl_loss 5.2219, disc_loss -107.7418, gen_loss 1426.3541:   0%|          | 88/18016 [00:28<1:29:49,  3.33it/s]"
     ]
    },
    {
     "name": "stdout",
     "output_type": "stream",
     "text": [
      "Z shape torch.Size([4, 512]) X shape  torch.Size([4, 3, 3, 300, 300])\n",
      "Y.shape First torch.Size([4, 256, 64, 64])\n",
      "Y.shape Second torch.Size([4, 256, 32, 32])\n",
      "Y.shape First torch.Size([4, 256, 64, 64])\n",
      "Y.shape Second torch.Size([4, 256, 32, 32])\n",
      "Y.shape First torch.Size([4, 256, 64, 64])\n",
      "Y.shape Second torch.Size([4, 256, 32, 32])\n"
     ]
    },
    {
     "name": "stderr",
     "output_type": "stream",
     "text": [
      "Epoch 0, loss 13285.3546, reconstruction_loss 13280.1280, kl_loss 5.2266, disc_loss -133.8767, gen_loss 1452.4924:   1%|          | 92/18016 [00:29<1:29:52,  3.32it/s]"
     ]
    },
    {
     "name": "stdout",
     "output_type": "stream",
     "text": [
      "Z shape torch.Size([4, 512]) X shape  torch.Size([4, 3, 3, 300, 300])\n",
      "Y.shape First torch.Size([4, 256, 64, 64])\n",
      "Y.shape Second torch.Size([4, 256, 32, 32])\n",
      "Y.shape First torch.Size([4, 256, 64, 64])\n",
      "Y.shape Second torch.Size([4, 256, 32, 32])\n",
      "Y.shape First torch.Size([4, 256, 64, 64])\n",
      "Y.shape Second torch.Size([4, 256, 32, 32])\n"
     ]
    },
    {
     "name": "stderr",
     "output_type": "stream",
     "text": [
      "Epoch 0, loss 13256.5427, reconstruction_loss 13251.3222, kl_loss 5.2205, disc_loss -166.7551, gen_loss 1480.2149:   1%|          | 96/18016 [00:30<1:29:57,  3.32it/s]"
     ]
    },
    {
     "name": "stdout",
     "output_type": "stream",
     "text": [
      "Z shape torch.Size([4, 512]) X shape  torch.Size([4, 3, 3, 300, 300])\n",
      "Y.shape First torch.Size([4, 256, 64, 64])\n",
      "Y.shape Second torch.Size([4, 256, 32, 32])\n",
      "Y.shape First torch.Size([4, 256, 64, 64])\n",
      "Y.shape Second torch.Size([4, 256, 32, 32])\n",
      "Y.shape First torch.Size([4, 256, 64, 64])\n",
      "Y.shape Second torch.Size([4, 256, 32, 32])\n"
     ]
    },
    {
     "name": "stderr",
     "output_type": "stream",
     "text": [
      "Epoch 0, loss 13274.8089, reconstruction_loss 13269.5775, kl_loss 5.2314, disc_loss -202.9922, gen_loss 1537.7649:   1%|          | 100/18016 [00:31<1:29:59,  3.32it/s]"
     ]
    },
    {
     "name": "stdout",
     "output_type": "stream",
     "text": [
      "Z shape torch.Size([4, 512]) X shape  torch.Size([4, 3, 3, 300, 300])\n",
      "Y.shape First torch.Size([4, 256, 64, 64])\n",
      "Y.shape Second torch.Size([4, 256, 32, 32])\n",
      "Y.shape First torch.Size([4, 256, 64, 64])\n",
      "Y.shape Second torch.Size([4, 256, 32, 32])\n",
      "Y.shape First torch.Size([4, 256, 64, 64])\n",
      "Y.shape Second torch.Size([4, 256, 32, 32])\n"
     ]
    },
    {
     "name": "stderr",
     "output_type": "stream",
     "text": [
      "Epoch 0, loss 13284.8310, reconstruction_loss 13279.5832, kl_loss 5.2478, disc_loss -231.1549, gen_loss 1582.5366:   1%|          | 104/18016 [00:33<1:29:55,  3.32it/s]"
     ]
    },
    {
     "name": "stdout",
     "output_type": "stream",
     "text": [
      "Z shape torch.Size([4, 512]) X shape  torch.Size([4, 3, 3, 300, 300])\n",
      "Y.shape First torch.Size([4, 256, 64, 64])\n",
      "Y.shape Second torch.Size([4, 256, 32, 32])\n",
      "Y.shape First torch.Size([4, 256, 64, 64])\n",
      "Y.shape Second torch.Size([4, 256, 32, 32])\n",
      "Y.shape First torch.Size([4, 256, 64, 64])\n",
      "Y.shape Second torch.Size([4, 256, 32, 32])\n"
     ]
    },
    {
     "name": "stderr",
     "output_type": "stream",
     "text": [
      "Epoch 0, loss 13267.6674, reconstruction_loss 13262.4384, kl_loss 5.2290, disc_loss -274.5138, gen_loss 1623.5292:   1%|          | 108/18016 [00:34<1:30:09,  3.31it/s]"
     ]
    },
    {
     "name": "stdout",
     "output_type": "stream",
     "text": [
      "Z shape torch.Size([4, 512]) X shape  torch.Size([4, 3, 3, 300, 300])\n",
      "Y.shape First torch.Size([4, 256, 64, 64])\n",
      "Y.shape Second torch.Size([4, 256, 32, 32])\n",
      "Y.shape First torch.Size([4, 256, 64, 64])\n",
      "Y.shape Second torch.Size([4, 256, 32, 32])\n",
      "Y.shape First torch.Size([4, 256, 64, 64])\n",
      "Y.shape Second torch.Size([4, 256, 32, 32])\n"
     ]
    },
    {
     "name": "stderr",
     "output_type": "stream",
     "text": [
      "Epoch 0, loss 13254.2848, reconstruction_loss 13249.0793, kl_loss 5.2054, disc_loss -323.8602, gen_loss 1683.9177:   1%|          | 112/18016 [00:35<1:30:05,  3.31it/s]"
     ]
    },
    {
     "name": "stdout",
     "output_type": "stream",
     "text": [
      "Z shape torch.Size([4, 512]) X shape  torch.Size([4, 3, 3, 300, 300])\n",
      "Y.shape First torch.Size([4, 256, 64, 64])\n",
      "Y.shape Second torch.Size([4, 256, 32, 32])\n",
      "Y.shape First torch.Size([4, 256, 64, 64])\n",
      "Y.shape Second torch.Size([4, 256, 32, 32])\n",
      "Y.shape First torch.Size([4, 256, 64, 64])\n",
      "Y.shape Second torch.Size([4, 256, 32, 32])\n"
     ]
    },
    {
     "name": "stderr",
     "output_type": "stream",
     "text": [
      "Epoch 0, loss 13247.9158, reconstruction_loss 13242.6973, kl_loss 5.2186, disc_loss -385.6482, gen_loss 1759.8455:   1%|          | 116/18016 [00:36<1:29:46,  3.32it/s]"
     ]
    },
    {
     "name": "stdout",
     "output_type": "stream",
     "text": [
      "Z shape torch.Size([4, 512]) X shape  torch.Size([4, 3, 3, 300, 300])\n",
      "Y.shape First torch.Size([4, 256, 64, 64])\n",
      "Y.shape Second torch.Size([4, 256, 32, 32])\n",
      "Y.shape First torch.Size([4, 256, 64, 64])\n",
      "Y.shape Second torch.Size([4, 256, 32, 32])\n",
      "Y.shape First torch.Size([4, 256, 64, 64])\n",
      "Y.shape Second torch.Size([4, 256, 32, 32])\n"
     ]
    },
    {
     "name": "stderr",
     "output_type": "stream",
     "text": [
      "Epoch 0, loss 13237.4805, reconstruction_loss 13232.2621, kl_loss 5.2184, disc_loss -457.7149, gen_loss 1842.3487:   1%|          | 120/18016 [00:38<1:29:49,  3.32it/s]"
     ]
    },
    {
     "name": "stdout",
     "output_type": "stream",
     "text": [
      "Z shape torch.Size([4, 512]) X shape  torch.Size([4, 3, 3, 300, 300])\n",
      "Y.shape First torch.Size([4, 256, 64, 64])\n",
      "Y.shape Second torch.Size([4, 256, 32, 32])\n",
      "Y.shape First torch.Size([4, 256, 64, 64])\n",
      "Y.shape Second torch.Size([4, 256, 32, 32])\n",
      "Y.shape First torch.Size([4, 256, 64, 64])\n",
      "Y.shape Second torch.Size([4, 256, 32, 32])\n"
     ]
    },
    {
     "name": "stderr",
     "output_type": "stream",
     "text": [
      "Epoch 0, loss 13238.0960, reconstruction_loss 13232.8759, kl_loss 5.2201, disc_loss -543.8286, gen_loss 1960.4802:   1%|          | 124/18016 [00:39<1:30:05,  3.31it/s]"
     ]
    },
    {
     "name": "stdout",
     "output_type": "stream",
     "text": [
      "Z shape torch.Size([4, 512]) X shape  torch.Size([4, 3, 3, 300, 300])\n",
      "Y.shape First torch.Size([4, 256, 64, 64])\n",
      "Y.shape Second torch.Size([4, 256, 32, 32])\n",
      "Y.shape First torch.Size([4, 256, 64, 64])\n",
      "Y.shape Second torch.Size([4, 256, 32, 32])\n",
      "Y.shape First torch.Size([4, 256, 64, 64])\n",
      "Y.shape Second torch.Size([4, 256, 32, 32])\n"
     ]
    },
    {
     "name": "stderr",
     "output_type": "stream",
     "text": [
      "Epoch 0, loss 13221.9931, reconstruction_loss 13216.7578, kl_loss 5.2353, disc_loss -633.5092, gen_loss 2038.8739:   1%|          | 128/18016 [00:40<1:29:47,  3.32it/s]"
     ]
    },
    {
     "name": "stdout",
     "output_type": "stream",
     "text": [
      "Z shape torch.Size([4, 512]) X shape  torch.Size([4, 3, 3, 300, 300])\n",
      "Y.shape First torch.Size([4, 256, 64, 64])\n",
      "Y.shape Second torch.Size([4, 256, 32, 32])\n",
      "Y.shape First torch.Size([4, 256, 64, 64])\n",
      "Y.shape Second torch.Size([4, 256, 32, 32])\n",
      "Y.shape First torch.Size([4, 256, 64, 64])\n",
      "Y.shape Second torch.Size([4, 256, 32, 32])\n"
     ]
    },
    {
     "name": "stderr",
     "output_type": "stream",
     "text": [
      "Epoch 0, loss 13229.0545, reconstruction_loss 13223.8256, kl_loss 5.2289, disc_loss -699.6469, gen_loss 2182.6276:   1%|          | 132/18016 [00:41<1:29:43,  3.32it/s]"
     ]
    },
    {
     "name": "stdout",
     "output_type": "stream",
     "text": [
      "Z shape torch.Size([4, 512]) X shape  torch.Size([4, 3, 3, 300, 300])\n",
      "Y.shape First torch.Size([4, 256, 64, 64])\n",
      "Y.shape Second torch.Size([4, 256, 32, 32])\n",
      "Y.shape First torch.Size([4, 256, 64, 64])\n",
      "Y.shape Second torch.Size([4, 256, 32, 32])\n",
      "Y.shape First torch.Size([4, 256, 64, 64])\n",
      "Y.shape Second torch.Size([4, 256, 32, 32])\n"
     ]
    },
    {
     "name": "stderr",
     "output_type": "stream",
     "text": [
      "Epoch 0, loss 13232.2352, reconstruction_loss 13227.0147, kl_loss 5.2206, disc_loss -841.0749, gen_loss 2374.9117:   1%|          | 136/18016 [00:42<1:29:53,  3.31it/s]"
     ]
    },
    {
     "name": "stdout",
     "output_type": "stream",
     "text": [
      "Z shape torch.Size([4, 512]) X shape  torch.Size([4, 3, 3, 300, 300])\n",
      "Y.shape First torch.Size([4, 256, 64, 64])\n",
      "Y.shape Second torch.Size([4, 256, 32, 32])\n",
      "Y.shape First torch.Size([4, 256, 64, 64])\n",
      "Y.shape Second torch.Size([4, 256, 32, 32])\n",
      "Y.shape First torch.Size([4, 256, 64, 64])\n",
      "Y.shape Second torch.Size([4, 256, 32, 32])\n"
     ]
    },
    {
     "name": "stderr",
     "output_type": "stream",
     "text": [
      "Epoch 0, loss 13226.5561, reconstruction_loss 13221.3441, kl_loss 5.2119, disc_loss -964.8154, gen_loss 2518.9490:   1%|          | 140/18016 [00:44<1:29:53,  3.31it/s]"
     ]
    },
    {
     "name": "stdout",
     "output_type": "stream",
     "text": [
      "Z shape torch.Size([4, 512]) X shape  torch.Size([4, 3, 3, 300, 300])\n",
      "Y.shape First torch.Size([4, 256, 64, 64])\n",
      "Y.shape Second torch.Size([4, 256, 32, 32])\n",
      "Y.shape First torch.Size([4, 256, 64, 64])\n",
      "Y.shape Second torch.Size([4, 256, 32, 32])\n",
      "Y.shape First torch.Size([4, 256, 64, 64])\n",
      "Y.shape Second torch.Size([4, 256, 32, 32])\n"
     ]
    },
    {
     "name": "stderr",
     "output_type": "stream",
     "text": [
      "Epoch 0, loss 13227.6474, reconstruction_loss 13222.4277, kl_loss 5.2197, disc_loss -1106.5339, gen_loss 2687.0165:   1%|          | 144/18016 [00:45<1:29:42,  3.32it/s]"
     ]
    },
    {
     "name": "stdout",
     "output_type": "stream",
     "text": [
      "Z shape torch.Size([4, 512]) X shape  torch.Size([4, 3, 3, 300, 300])\n",
      "Y.shape First torch.Size([4, 256, 64, 64])\n",
      "Y.shape Second torch.Size([4, 256, 32, 32])\n",
      "Y.shape First torch.Size([4, 256, 64, 64])\n",
      "Y.shape Second torch.Size([4, 256, 32, 32])\n",
      "Y.shape First torch.Size([4, 256, 64, 64])\n",
      "Y.shape Second torch.Size([4, 256, 32, 32])\n"
     ]
    },
    {
     "name": "stderr",
     "output_type": "stream",
     "text": [
      "Epoch 0, loss 13209.1717, reconstruction_loss 13203.9505, kl_loss 5.2212, disc_loss -1268.9853, gen_loss 2901.3982:   1%|          | 148/18016 [00:46<1:29:40,  3.32it/s]"
     ]
    },
    {
     "name": "stdout",
     "output_type": "stream",
     "text": [
      "Z shape torch.Size([4, 512]) X shape  torch.Size([4, 3, 3, 300, 300])\n",
      "Y.shape First torch.Size([4, 256, 64, 64])\n",
      "Y.shape Second torch.Size([4, 256, 32, 32])\n",
      "Y.shape First torch.Size([4, 256, 64, 64])\n",
      "Y.shape Second torch.Size([4, 256, 32, 32])\n",
      "Y.shape First torch.Size([4, 256, 64, 64])\n",
      "Y.shape Second torch.Size([4, 256, 32, 32])\n"
     ]
    },
    {
     "name": "stderr",
     "output_type": "stream",
     "text": [
      "Epoch 0, loss 13204.4331, reconstruction_loss 13199.2252, kl_loss 5.2079, disc_loss -1486.9592, gen_loss 3192.2488:   1%|          | 152/18016 [00:47<1:29:32,  3.33it/s]"
     ]
    },
    {
     "name": "stdout",
     "output_type": "stream",
     "text": [
      "Z shape torch.Size([4, 512]) X shape  torch.Size([4, 3, 3, 300, 300])\n",
      "Y.shape First torch.Size([4, 256, 64, 64])\n",
      "Y.shape Second torch.Size([4, 256, 32, 32])\n",
      "Y.shape First torch.Size([4, 256, 64, 64])\n",
      "Y.shape Second torch.Size([4, 256, 32, 32])\n",
      "Y.shape First torch.Size([4, 256, 64, 64])\n",
      "Y.shape Second torch.Size([4, 256, 32, 32])\n"
     ]
    },
    {
     "name": "stderr",
     "output_type": "stream",
     "text": [
      "Epoch 0, loss 13202.2260, reconstruction_loss 13197.0226, kl_loss 5.2035, disc_loss -1728.4210, gen_loss 3458.7648:   1%|          | 156/18016 [00:48<1:29:47,  3.32it/s]"
     ]
    },
    {
     "name": "stdout",
     "output_type": "stream",
     "text": [
      "Z shape torch.Size([4, 512]) X shape  torch.Size([4, 3, 3, 300, 300])\n",
      "Y.shape First torch.Size([4, 256, 64, 64])\n",
      "Y.shape Second torch.Size([4, 256, 32, 32])\n",
      "Y.shape First torch.Size([4, 256, 64, 64])\n",
      "Y.shape Second torch.Size([4, 256, 32, 32])\n",
      "Y.shape First torch.Size([4, 256, 64, 64])\n",
      "Y.shape Second torch.Size([4, 256, 32, 32])\n"
     ]
    },
    {
     "name": "stderr",
     "output_type": "stream",
     "text": [
      "Epoch 0, loss 13187.3650, reconstruction_loss 13182.1538, kl_loss 5.2112, disc_loss -2002.9070, gen_loss 3829.6983:   1%|          | 160/18016 [00:50<1:29:51,  3.31it/s]"
     ]
    },
    {
     "name": "stdout",
     "output_type": "stream",
     "text": [
      "Z shape torch.Size([4, 512]) X shape  torch.Size([4, 3, 3, 300, 300])\n",
      "Y.shape First torch.Size([4, 256, 64, 64])\n",
      "Y.shape Second torch.Size([4, 256, 32, 32])\n",
      "Y.shape First torch.Size([4, 256, 64, 64])\n",
      "Y.shape Second torch.Size([4, 256, 32, 32])\n",
      "Y.shape First torch.Size([4, 256, 64, 64])\n",
      "Y.shape Second torch.Size([4, 256, 32, 32])\n"
     ]
    },
    {
     "name": "stderr",
     "output_type": "stream",
     "text": [
      "Epoch 0, loss 13179.6925, reconstruction_loss 13174.4785, kl_loss 5.2140, disc_loss -2373.4318, gen_loss 4327.6366:   1%|          | 164/18016 [00:51<1:29:44,  3.32it/s]"
     ]
    },
    {
     "name": "stdout",
     "output_type": "stream",
     "text": [
      "Z shape torch.Size([4, 512]) X shape  torch.Size([4, 3, 3, 300, 300])\n",
      "Y.shape First torch.Size([4, 256, 64, 64])\n",
      "Y.shape Second torch.Size([4, 256, 32, 32])\n",
      "Y.shape First torch.Size([4, 256, 64, 64])\n",
      "Y.shape Second torch.Size([4, 256, 32, 32])\n",
      "Y.shape First torch.Size([4, 256, 64, 64])\n",
      "Y.shape Second torch.Size([4, 256, 32, 32])\n"
     ]
    },
    {
     "name": "stderr",
     "output_type": "stream",
     "text": [
      "Epoch 0, loss 13179.1262, reconstruction_loss 13173.9157, kl_loss 5.2105, disc_loss -2830.4842, gen_loss 4780.8149:   1%|          | 168/18016 [00:52<1:29:54,  3.31it/s]"
     ]
    },
    {
     "name": "stdout",
     "output_type": "stream",
     "text": [
      "Z shape torch.Size([4, 512]) X shape  torch.Size([4, 3, 3, 300, 300])\n",
      "Y.shape First torch.Size([4, 256, 64, 64])\n",
      "Y.shape Second torch.Size([4, 256, 32, 32])\n",
      "Y.shape First torch.Size([4, 256, 64, 64])\n",
      "Y.shape Second torch.Size([4, 256, 32, 32])\n",
      "Y.shape First torch.Size([4, 256, 64, 64])\n",
      "Y.shape Second torch.Size([4, 256, 32, 32])\n"
     ]
    },
    {
     "name": "stderr",
     "output_type": "stream",
     "text": [
      "Epoch 0, loss 13168.1108, reconstruction_loss 13162.9152, kl_loss 5.1956, disc_loss -3106.9962, gen_loss 5467.3172:   1%|          | 172/18016 [00:53<1:30:01,  3.30it/s]"
     ]
    },
    {
     "name": "stdout",
     "output_type": "stream",
     "text": [
      "Z shape torch.Size([4, 512]) X shape  torch.Size([4, 3, 3, 300, 300])\n",
      "Y.shape First torch.Size([4, 256, 64, 64])\n",
      "Y.shape Second torch.Size([4, 256, 32, 32])\n",
      "Y.shape First torch.Size([4, 256, 64, 64])\n",
      "Y.shape Second torch.Size([4, 256, 32, 32])\n",
      "Y.shape First torch.Size([4, 256, 64, 64])\n",
      "Y.shape Second torch.Size([4, 256, 32, 32])\n"
     ]
    },
    {
     "name": "stderr",
     "output_type": "stream",
     "text": [
      "Epoch 0, loss 13160.1836, reconstruction_loss 13154.9804, kl_loss 5.2032, disc_loss -3762.7810, gen_loss 6407.0740:   1%|          | 176/18016 [00:54<1:29:54,  3.31it/s]"
     ]
    },
    {
     "name": "stdout",
     "output_type": "stream",
     "text": [
      "Z shape torch.Size([4, 512]) X shape  torch.Size([4, 3, 3, 300, 300])\n",
      "Y.shape First torch.Size([4, 256, 64, 64])\n",
      "Y.shape Second torch.Size([4, 256, 32, 32])\n",
      "Y.shape First torch.Size([4, 256, 64, 64])\n",
      "Y.shape Second torch.Size([4, 256, 32, 32])\n",
      "Y.shape First torch.Size([4, 256, 64, 64])\n",
      "Y.shape Second torch.Size([4, 256, 32, 32])\n"
     ]
    },
    {
     "name": "stderr",
     "output_type": "stream",
     "text": [
      "Epoch 0, loss 13145.0993, reconstruction_loss 13139.8934, kl_loss 5.2060, disc_loss -4137.7084, gen_loss 7048.6056:   1%|          | 180/18016 [00:56<1:29:38,  3.32it/s]"
     ]
    },
    {
     "name": "stdout",
     "output_type": "stream",
     "text": [
      "Z shape torch.Size([4, 512]) X shape  torch.Size([4, 3, 3, 300, 300])\n",
      "Y.shape First torch.Size([4, 256, 64, 64])\n",
      "Y.shape Second torch.Size([4, 256, 32, 32])\n",
      "Y.shape First torch.Size([4, 256, 64, 64])\n",
      "Y.shape Second torch.Size([4, 256, 32, 32])\n",
      "Y.shape First torch.Size([4, 256, 64, 64])\n",
      "Y.shape Second torch.Size([4, 256, 32, 32])\n"
     ]
    },
    {
     "name": "stderr",
     "output_type": "stream",
     "text": [
      "Epoch 0, loss 13135.8741, reconstruction_loss 13130.6706, kl_loss 5.2035, disc_loss -4648.1098, gen_loss 7564.5482:   1%|          | 184/18016 [00:57<1:29:45,  3.31it/s]"
     ]
    },
    {
     "name": "stdout",
     "output_type": "stream",
     "text": [
      "Z shape torch.Size([4, 512]) X shape  torch.Size([4, 3, 3, 300, 300])\n",
      "Y.shape First torch.Size([4, 256, 64, 64])\n",
      "Y.shape Second torch.Size([4, 256, 32, 32])\n",
      "Y.shape First torch.Size([4, 256, 64, 64])\n",
      "Y.shape Second torch.Size([4, 256, 32, 32])\n",
      "Y.shape First torch.Size([4, 256, 64, 64])\n",
      "Y.shape Second torch.Size([4, 256, 32, 32])\n"
     ]
    },
    {
     "name": "stderr",
     "output_type": "stream",
     "text": [
      "Epoch 0, loss 13128.6381, reconstruction_loss 13123.4322, kl_loss 5.2059, disc_loss -5042.7332, gen_loss 8058.8950:   1%|          | 188/18016 [00:58<1:29:40,  3.31it/s]"
     ]
    },
    {
     "name": "stdout",
     "output_type": "stream",
     "text": [
      "Z shape torch.Size([4, 512]) X shape  torch.Size([4, 3, 3, 300, 300])\n",
      "Y.shape First torch.Size([4, 256, 64, 64])\n",
      "Y.shape Second torch.Size([4, 256, 32, 32])\n",
      "Y.shape First torch.Size([4, 256, 64, 64])\n",
      "Y.shape Second torch.Size([4, 256, 32, 32])\n",
      "Y.shape First torch.Size([4, 256, 64, 64])\n",
      "Y.shape Second torch.Size([4, 256, 32, 32])\n"
     ]
    },
    {
     "name": "stderr",
     "output_type": "stream",
     "text": [
      "Epoch 0, loss 13118.8715, reconstruction_loss 13113.6604, kl_loss 5.2112, disc_loss -5443.1714, gen_loss 8567.2185:   1%|          | 192/18016 [00:59<1:29:42,  3.31it/s]"
     ]
    },
    {
     "name": "stdout",
     "output_type": "stream",
     "text": [
      "Z shape torch.Size([4, 512]) X shape  torch.Size([4, 3, 3, 300, 300])\n",
      "Y.shape First torch.Size([4, 256, 64, 64])\n",
      "Y.shape Second torch.Size([4, 256, 32, 32])\n",
      "Y.shape First torch.Size([4, 256, 64, 64])\n",
      "Y.shape Second torch.Size([4, 256, 32, 32])\n",
      "Y.shape First torch.Size([4, 256, 64, 64])\n",
      "Y.shape Second torch.Size([4, 256, 32, 32])\n"
     ]
    },
    {
     "name": "stderr",
     "output_type": "stream",
     "text": [
      "Epoch 0, loss 13110.5898, reconstruction_loss 13105.3714, kl_loss 5.2184, disc_loss -5940.8376, gen_loss 9178.7823:   1%|          | 196/18016 [01:00<1:29:34,  3.32it/s]"
     ]
    },
    {
     "name": "stdout",
     "output_type": "stream",
     "text": [
      "Z shape torch.Size([4, 512]) X shape  torch.Size([4, 3, 3, 300, 300])\n",
      "Y.shape First torch.Size([4, 256, 64, 64])\n",
      "Y.shape Second torch.Size([4, 256, 32, 32])\n",
      "Y.shape First torch.Size([4, 256, 64, 64])\n",
      "Y.shape Second torch.Size([4, 256, 32, 32])\n",
      "Y.shape First torch.Size([4, 256, 64, 64])\n",
      "Y.shape Second torch.Size([4, 256, 32, 32])\n"
     ]
    },
    {
     "name": "stderr",
     "output_type": "stream",
     "text": [
      "Epoch 0, loss 13107.6789, reconstruction_loss 13102.4643, kl_loss 5.2146, disc_loss -6627.3399, gen_loss 10003.5845:   1%|          | 200/18016 [01:02<1:29:27,  3.32it/s]"
     ]
    },
    {
     "name": "stdout",
     "output_type": "stream",
     "text": [
      "Z shape torch.Size([4, 512]) X shape  torch.Size([4, 3, 3, 300, 300])\n",
      "Y.shape First torch.Size([4, 256, 64, 64])\n",
      "Y.shape Second torch.Size([4, 256, 32, 32])\n",
      "Y.shape First torch.Size([4, 256, 64, 64])\n",
      "Y.shape Second torch.Size([4, 256, 32, 32])\n",
      "Y.shape First torch.Size([4, 256, 64, 64])\n",
      "Y.shape Second torch.Size([4, 256, 32, 32])\n"
     ]
    },
    {
     "name": "stderr",
     "output_type": "stream",
     "text": [
      "Epoch 0, loss 13069.8561, reconstruction_loss 13064.6414, kl_loss 5.2147, disc_loss -7644.8592, gen_loss 11264.3658:   1%|          | 204/18016 [01:03<1:29:30,  3.32it/s]"
     ]
    },
    {
     "name": "stdout",
     "output_type": "stream",
     "text": [
      "Z shape torch.Size([4, 512]) X shape  torch.Size([4, 3, 3, 300, 300])\n",
      "Y.shape First torch.Size([4, 256, 64, 64])\n",
      "Y.shape Second torch.Size([4, 256, 32, 32])\n",
      "Y.shape First torch.Size([4, 256, 64, 64])\n",
      "Y.shape Second torch.Size([4, 256, 32, 32])\n",
      "Y.shape First torch.Size([4, 256, 64, 64])\n",
      "Y.shape Second torch.Size([4, 256, 32, 32])\n"
     ]
    },
    {
     "name": "stderr",
     "output_type": "stream",
     "text": [
      "Epoch 0, loss 13035.4600, reconstruction_loss 13030.2410, kl_loss 5.2189, disc_loss -8920.8576, gen_loss 12884.6908:   1%|          | 208/18016 [01:04<1:29:38,  3.31it/s]"
     ]
    },
    {
     "name": "stdout",
     "output_type": "stream",
     "text": [
      "Z shape torch.Size([4, 512]) X shape  torch.Size([4, 3, 3, 300, 300])\n",
      "Y.shape First torch.Size([4, 256, 64, 64])\n",
      "Y.shape Second torch.Size([4, 256, 32, 32])\n",
      "Y.shape First torch.Size([4, 256, 64, 64])\n",
      "Y.shape Second torch.Size([4, 256, 32, 32])\n",
      "Y.shape First torch.Size([4, 256, 64, 64])\n",
      "Y.shape Second torch.Size([4, 256, 32, 32])\n"
     ]
    },
    {
     "name": "stderr",
     "output_type": "stream",
     "text": [
      "Epoch 0, loss 13009.7224, reconstruction_loss 13004.4958, kl_loss 5.2266, disc_loss -10492.2616, gen_loss 14930.7501:   1%|          | 212/18016 [01:05<1:29:40,  3.31it/s]"
     ]
    },
    {
     "name": "stdout",
     "output_type": "stream",
     "text": [
      "Z shape torch.Size([4, 512]) X shape  torch.Size([4, 3, 3, 300, 300])\n",
      "Y.shape First torch.Size([4, 256, 64, 64])\n",
      "Y.shape Second torch.Size([4, 256, 32, 32])\n",
      "Y.shape First torch.Size([4, 256, 64, 64])\n",
      "Y.shape Second torch.Size([4, 256, 32, 32])\n",
      "Y.shape First torch.Size([4, 256, 64, 64])\n",
      "Y.shape Second torch.Size([4, 256, 32, 32])\n"
     ]
    },
    {
     "name": "stderr",
     "output_type": "stream",
     "text": [
      "Epoch 0, loss 13006.2127, reconstruction_loss 13000.9898, kl_loss 5.2229, disc_loss -12436.9020, gen_loss 17513.3215:   1%|          | 216/18016 [01:06<1:29:45,  3.31it/s]"
     ]
    },
    {
     "name": "stdout",
     "output_type": "stream",
     "text": [
      "Z shape torch.Size([4, 512]) X shape  torch.Size([4, 3, 3, 300, 300])\n",
      "Y.shape First torch.Size([4, 256, 64, 64])\n",
      "Y.shape Second torch.Size([4, 256, 32, 32])\n",
      "Y.shape First torch.Size([4, 256, 64, 64])\n",
      "Y.shape Second torch.Size([4, 256, 32, 32])\n",
      "Y.shape First torch.Size([4, 256, 64, 64])\n",
      "Y.shape Second torch.Size([4, 256, 32, 32])\n"
     ]
    },
    {
     "name": "stderr",
     "output_type": "stream",
     "text": [
      "Epoch 0, loss 13004.8664, reconstruction_loss 12999.6403, kl_loss 5.2261, disc_loss -14821.4558, gen_loss 20656.9015:   1%|          | 220/18016 [01:08<1:29:51,  3.30it/s]"
     ]
    },
    {
     "name": "stdout",
     "output_type": "stream",
     "text": [
      "Z shape torch.Size([4, 512]) X shape  torch.Size([4, 3, 3, 300, 300])\n",
      "Y.shape First torch.Size([4, 256, 64, 64])\n",
      "Y.shape Second torch.Size([4, 256, 32, 32])\n",
      "Y.shape First torch.Size([4, 256, 64, 64])\n",
      "Y.shape Second torch.Size([4, 256, 32, 32])\n",
      "Y.shape First torch.Size([4, 256, 64, 64])\n",
      "Y.shape Second torch.Size([4, 256, 32, 32])\n"
     ]
    },
    {
     "name": "stderr",
     "output_type": "stream",
     "text": [
      "Epoch 0, loss 13000.0189, reconstruction_loss 12994.7872, kl_loss 5.2317, disc_loss -17579.2506, gen_loss 24211.8975:   1%|          | 224/18016 [01:09<1:29:45,  3.30it/s]"
     ]
    },
    {
     "name": "stdout",
     "output_type": "stream",
     "text": [
      "Z shape torch.Size([4, 512]) X shape  torch.Size([4, 3, 3, 300, 300])\n",
      "Y.shape First torch.Size([4, 256, 64, 64])\n",
      "Y.shape Second torch.Size([4, 256, 32, 32])\n",
      "Y.shape First torch.Size([4, 256, 64, 64])\n",
      "Y.shape Second torch.Size([4, 256, 32, 32])\n",
      "Y.shape First torch.Size([4, 256, 64, 64])\n",
      "Y.shape Second torch.Size([4, 256, 32, 32])\n"
     ]
    },
    {
     "name": "stderr",
     "output_type": "stream",
     "text": [
      "Epoch 0, loss 13001.9690, reconstruction_loss 12996.7416, kl_loss 5.2273, disc_loss -21000.0006, gen_loss 28367.9894:   1%|▏         | 228/18016 [01:10<1:30:00,  3.29it/s]"
     ]
    },
    {
     "name": "stdout",
     "output_type": "stream",
     "text": [
      "Z shape torch.Size([4, 512]) X shape  torch.Size([4, 3, 3, 300, 300])\n",
      "Y.shape First torch.Size([4, 256, 64, 64])\n",
      "Y.shape Second torch.Size([4, 256, 32, 32])\n",
      "Y.shape First torch.Size([4, 256, 64, 64])\n",
      "Y.shape Second torch.Size([4, 256, 32, 32])\n",
      "Y.shape First torch.Size([4, 256, 64, 64])\n",
      "Y.shape Second torch.Size([4, 256, 32, 32])\n"
     ]
    },
    {
     "name": "stderr",
     "output_type": "stream",
     "text": [
      "Epoch 0, loss 12991.3272, reconstruction_loss 12986.1036, kl_loss 5.2236, disc_loss -25666.6862, gen_loss 34835.9399:   1%|▏         | 232/18016 [01:11<1:29:56,  3.30it/s]"
     ]
    },
    {
     "name": "stdout",
     "output_type": "stream",
     "text": [
      "Z shape torch.Size([4, 512]) X shape  torch.Size([4, 3, 3, 300, 300])\n",
      "Y.shape First torch.Size([4, 256, 64, 64])\n",
      "Y.shape Second torch.Size([4, 256, 32, 32])\n",
      "Y.shape First torch.Size([4, 256, 64, 64])\n",
      "Y.shape Second torch.Size([4, 256, 32, 32])\n",
      "Y.shape First torch.Size([4, 256, 64, 64])\n",
      "Y.shape Second torch.Size([4, 256, 32, 32])\n"
     ]
    },
    {
     "name": "stderr",
     "output_type": "stream",
     "text": [
      "Epoch 0, loss 12976.4972, reconstruction_loss 12971.2882, kl_loss 5.2090, disc_loss -31849.7286, gen_loss 43675.2247:   1%|▏         | 236/18016 [01:13<1:29:42,  3.30it/s]"
     ]
    },
    {
     "name": "stdout",
     "output_type": "stream",
     "text": [
      "Z shape torch.Size([4, 512]) X shape  torch.Size([4, 3, 3, 300, 300])\n",
      "Y.shape First torch.Size([4, 256, 64, 64])\n",
      "Y.shape Second torch.Size([4, 256, 32, 32])\n",
      "Y.shape First torch.Size([4, 256, 64, 64])\n",
      "Y.shape Second torch.Size([4, 256, 32, 32])\n",
      "Y.shape First torch.Size([4, 256, 64, 64])\n",
      "Y.shape Second torch.Size([4, 256, 32, 32])\n"
     ]
    },
    {
     "name": "stderr",
     "output_type": "stream",
     "text": [
      "Epoch 0, loss 12950.8724, reconstruction_loss 12945.6594, kl_loss 5.2130, disc_loss -11483.8413, gen_loss 49038.4112:   1%|▏         | 240/18016 [01:14<1:29:40,  3.30it/s]"
     ]
    },
    {
     "name": "stdout",
     "output_type": "stream",
     "text": [
      "Z shape torch.Size([4, 512]) X shape  torch.Size([4, 3, 3, 300, 300])\n",
      "Y.shape First torch.Size([4, 256, 64, 64])\n",
      "Y.shape Second torch.Size([4, 256, 32, 32])\n",
      "Y.shape First torch.Size([4, 256, 64, 64])\n",
      "Y.shape Second torch.Size([4, 256, 32, 32])\n",
      "Y.shape First torch.Size([4, 256, 64, 64])\n",
      "Y.shape Second torch.Size([4, 256, 32, 32])\n"
     ]
    },
    {
     "name": "stderr",
     "output_type": "stream",
     "text": [
      "Epoch 0, loss 12963.2599, reconstruction_loss 12958.0301, kl_loss 5.2299, disc_loss -16776.9377, gen_loss 53401.0584:   1%|▏         | 244/18016 [01:15<1:29:44,  3.30it/s]"
     ]
    },
    {
     "name": "stdout",
     "output_type": "stream",
     "text": [
      "Z shape torch.Size([4, 512]) X shape  torch.Size([4, 3, 3, 300, 300])\n",
      "Y.shape First torch.Size([4, 256, 64, 64])\n",
      "Y.shape Second torch.Size([4, 256, 32, 32])\n",
      "Y.shape First torch.Size([4, 256, 64, 64])\n",
      "Y.shape Second torch.Size([4, 256, 32, 32])\n",
      "Y.shape First torch.Size([4, 256, 64, 64])\n",
      "Y.shape Second torch.Size([4, 256, 32, 32])\n"
     ]
    },
    {
     "name": "stderr",
     "output_type": "stream",
     "text": [
      "Epoch 0, loss 12966.9006, reconstruction_loss 12961.6895, kl_loss 5.2111, disc_loss -20907.7967, gen_loss 57276.2494:   1%|▏         | 248/18016 [01:16<1:29:47,  3.30it/s]"
     ]
    },
    {
     "name": "stdout",
     "output_type": "stream",
     "text": [
      "Z shape torch.Size([4, 512]) X shape  torch.Size([4, 3, 3, 300, 300])\n",
      "Y.shape First torch.Size([4, 256, 64, 64])\n",
      "Y.shape Second torch.Size([4, 256, 32, 32])\n",
      "Y.shape First torch.Size([4, 256, 64, 64])\n",
      "Y.shape Second torch.Size([4, 256, 32, 32])\n",
      "Y.shape First torch.Size([4, 256, 64, 64])\n",
      "Y.shape Second torch.Size([4, 256, 32, 32])\n"
     ]
    },
    {
     "name": "stderr",
     "output_type": "stream",
     "text": [
      "Epoch 0, loss 12963.2588, reconstruction_loss 12958.0629, kl_loss 5.1959, disc_loss -24557.2195, gen_loss 60943.1635:   1%|▏         | 252/18016 [01:17<1:29:51,  3.30it/s]"
     ]
    },
    {
     "name": "stdout",
     "output_type": "stream",
     "text": [
      "Z shape torch.Size([4, 512]) X shape  torch.Size([4, 3, 3, 300, 300])\n",
      "Y.shape First torch.Size([4, 256, 64, 64])\n",
      "Y.shape Second torch.Size([4, 256, 32, 32])\n",
      "Y.shape First torch.Size([4, 256, 64, 64])\n",
      "Y.shape Second torch.Size([4, 256, 32, 32])\n",
      "Y.shape First torch.Size([4, 256, 64, 64])\n",
      "Y.shape Second torch.Size([4, 256, 32, 32])\n"
     ]
    },
    {
     "name": "stderr",
     "output_type": "stream",
     "text": [
      "Epoch 0, loss 12945.5156, reconstruction_loss 12940.3189, kl_loss 5.1967, disc_loss -28028.2526, gen_loss 64522.3428:   1%|▏         | 256/18016 [01:19<1:30:01,  3.29it/s]"
     ]
    },
    {
     "name": "stdout",
     "output_type": "stream",
     "text": [
      "Z shape torch.Size([4, 512]) X shape  torch.Size([4, 3, 3, 300, 300])\n",
      "Y.shape First torch.Size([4, 256, 64, 64])\n",
      "Y.shape Second torch.Size([4, 256, 32, 32])\n",
      "Y.shape First torch.Size([4, 256, 64, 64])\n",
      "Y.shape Second torch.Size([4, 256, 32, 32])\n",
      "Y.shape First torch.Size([4, 256, 64, 64])\n",
      "Y.shape Second torch.Size([4, 256, 32, 32])\n"
     ]
    },
    {
     "name": "stderr",
     "output_type": "stream",
     "text": [
      "Epoch 0, loss 12950.3858, reconstruction_loss 12945.1878, kl_loss 5.1981, disc_loss -31430.5337, gen_loss 68113.7798:   1%|▏         | 260/18016 [01:20<1:30:09,  3.28it/s]"
     ]
    },
    {
     "name": "stdout",
     "output_type": "stream",
     "text": [
      "Z shape torch.Size([4, 512]) X shape  torch.Size([4, 3, 3, 300, 300])\n",
      "Y.shape First torch.Size([4, 256, 64, 64])\n",
      "Y.shape Second torch.Size([4, 256, 32, 32])\n",
      "Y.shape First torch.Size([4, 256, 64, 64])\n",
      "Y.shape Second torch.Size([4, 256, 32, 32])\n",
      "Y.shape First torch.Size([4, 256, 64, 64])\n",
      "Y.shape Second torch.Size([4, 256, 32, 32])\n"
     ]
    },
    {
     "name": "stderr",
     "output_type": "stream",
     "text": [
      "Epoch 0, loss 12937.5580, reconstruction_loss 12932.3577, kl_loss 5.2003, disc_loss -35182.1777, gen_loss 72081.6334:   1%|▏         | 264/18016 [01:21<1:29:55,  3.29it/s]"
     ]
    },
    {
     "name": "stdout",
     "output_type": "stream",
     "text": [
      "Z shape torch.Size([4, 512]) X shape  torch.Size([4, 3, 3, 300, 300])\n",
      "Y.shape First torch.Size([4, 256, 64, 64])\n",
      "Y.shape Second torch.Size([4, 256, 32, 32])\n",
      "Y.shape First torch.Size([4, 256, 64, 64])\n",
      "Y.shape Second torch.Size([4, 256, 32, 32])\n",
      "Y.shape First torch.Size([4, 256, 64, 64])\n",
      "Y.shape Second torch.Size([4, 256, 32, 32])\n"
     ]
    },
    {
     "name": "stderr",
     "output_type": "stream",
     "text": [
      "Epoch 0, loss 12941.9291, reconstruction_loss 12936.7233, kl_loss 5.2059, disc_loss -39255.6590, gen_loss 76392.7747:   1%|▏         | 268/18016 [01:22<1:30:01,  3.29it/s]"
     ]
    },
    {
     "name": "stdout",
     "output_type": "stream",
     "text": [
      "Z shape torch.Size([4, 512]) X shape  torch.Size([4, 3, 3, 300, 300])\n",
      "Y.shape First torch.Size([4, 256, 64, 64])\n",
      "Y.shape Second torch.Size([4, 256, 32, 32])\n",
      "Y.shape First torch.Size([4, 256, 64, 64])\n",
      "Y.shape Second torch.Size([4, 256, 32, 32])\n",
      "Y.shape First torch.Size([4, 256, 64, 64])\n",
      "Y.shape Second torch.Size([4, 256, 32, 32])\n"
     ]
    },
    {
     "name": "stderr",
     "output_type": "stream",
     "text": [
      "Epoch 0, loss 12933.6745, reconstruction_loss 12928.4600, kl_loss 5.2146, disc_loss -43321.5090, gen_loss 80707.7166:   2%|▏         | 272/18016 [01:23<1:29:50,  3.29it/s]"
     ]
    },
    {
     "name": "stdout",
     "output_type": "stream",
     "text": [
      "Z shape torch.Size([4, 512]) X shape  torch.Size([4, 3, 3, 300, 300])\n",
      "Y.shape First torch.Size([4, 256, 64, 64])\n",
      "Y.shape Second torch.Size([4, 256, 32, 32])\n",
      "Y.shape First torch.Size([4, 256, 64, 64])\n",
      "Y.shape Second torch.Size([4, 256, 32, 32])\n",
      "Y.shape First torch.Size([4, 256, 64, 64])\n",
      "Y.shape Second torch.Size([4, 256, 32, 32])\n"
     ]
    },
    {
     "name": "stderr",
     "output_type": "stream",
     "text": [
      "Epoch 0, loss 12925.8428, reconstruction_loss 12920.6376, kl_loss 5.2052, disc_loss -47630.8458, gen_loss 85262.7340:   2%|▏         | 276/18016 [01:25<1:29:37,  3.30it/s]"
     ]
    },
    {
     "name": "stdout",
     "output_type": "stream",
     "text": [
      "Z shape torch.Size([4, 512]) X shape  torch.Size([4, 3, 3, 300, 300])\n",
      "Y.shape First torch.Size([4, 256, 64, 64])\n",
      "Y.shape Second torch.Size([4, 256, 32, 32])\n",
      "Y.shape First torch.Size([4, 256, 64, 64])\n",
      "Y.shape Second torch.Size([4, 256, 32, 32])\n",
      "Y.shape First torch.Size([4, 256, 64, 64])\n",
      "Y.shape Second torch.Size([4, 256, 32, 32])\n"
     ]
    },
    {
     "name": "stderr",
     "output_type": "stream",
     "text": [
      "Epoch 0, loss 12918.9413, reconstruction_loss 12913.7337, kl_loss 5.2077, disc_loss -51878.2030, gen_loss 89732.2647:   2%|▏         | 280/18016 [01:26<1:29:29,  3.30it/s]"
     ]
    },
    {
     "name": "stdout",
     "output_type": "stream",
     "text": [
      "Z shape torch.Size([4, 512]) X shape  torch.Size([4, 3, 3, 300, 300])\n",
      "Y.shape First torch.Size([4, 256, 64, 64])\n",
      "Y.shape Second torch.Size([4, 256, 32, 32])\n",
      "Y.shape First torch.Size([4, 256, 64, 64])\n",
      "Y.shape Second torch.Size([4, 256, 32, 32])\n",
      "Y.shape First torch.Size([4, 256, 64, 64])\n",
      "Y.shape Second torch.Size([4, 256, 32, 32])\n"
     ]
    },
    {
     "name": "stderr",
     "output_type": "stream",
     "text": [
      "Epoch 0, loss 12909.4757, reconstruction_loss 12904.2710, kl_loss 5.2047, disc_loss -56219.1005, gen_loss 94335.7043:   2%|▏         | 284/18016 [01:27<1:29:47,  3.29it/s]"
     ]
    },
    {
     "name": "stdout",
     "output_type": "stream",
     "text": [
      "Z shape torch.Size([4, 512]) X shape  torch.Size([4, 3, 3, 300, 300])\n",
      "Y.shape First torch.Size([4, 256, 64, 64])\n",
      "Y.shape Second torch.Size([4, 256, 32, 32])\n",
      "Y.shape First torch.Size([4, 256, 64, 64])\n",
      "Y.shape Second torch.Size([4, 256, 32, 32])\n",
      "Y.shape First torch.Size([4, 256, 64, 64])\n",
      "Y.shape Second torch.Size([4, 256, 32, 32])\n"
     ]
    },
    {
     "name": "stderr",
     "output_type": "stream",
     "text": [
      "Epoch 0, loss 12896.0605, reconstruction_loss 12890.8559, kl_loss 5.2046, disc_loss -60520.5399, gen_loss 98888.2850:   2%|▏         | 288/18016 [01:28<1:29:50,  3.29it/s]"
     ]
    },
    {
     "name": "stdout",
     "output_type": "stream",
     "text": [
      "Z shape torch.Size([4, 512]) X shape  torch.Size([4, 3, 3, 300, 300])\n",
      "Y.shape First torch.Size([4, 256, 64, 64])\n",
      "Y.shape Second torch.Size([4, 256, 32, 32])\n",
      "Y.shape First torch.Size([4, 256, 64, 64])\n",
      "Y.shape Second torch.Size([4, 256, 32, 32])\n",
      "Y.shape First torch.Size([4, 256, 64, 64])\n",
      "Y.shape Second torch.Size([4, 256, 32, 32])\n"
     ]
    },
    {
     "name": "stderr",
     "output_type": "stream",
     "text": [
      "Epoch 0, loss 12904.4948, reconstruction_loss 12899.3010, kl_loss 5.1939, disc_loss -65013.4770, gen_loss 103625.0803:   2%|▏         | 292/18016 [01:30<1:29:35,  3.30it/s]"
     ]
    },
    {
     "name": "stdout",
     "output_type": "stream",
     "text": [
      "Z shape torch.Size([4, 512]) X shape  torch.Size([4, 3, 3, 300, 300])\n",
      "Y.shape First torch.Size([4, 256, 64, 64])\n",
      "Y.shape Second torch.Size([4, 256, 32, 32])\n",
      "Y.shape First torch.Size([4, 256, 64, 64])\n",
      "Y.shape Second torch.Size([4, 256, 32, 32])\n",
      "Y.shape First torch.Size([4, 256, 64, 64])\n",
      "Y.shape Second torch.Size([4, 256, 32, 32])\n"
     ]
    },
    {
     "name": "stderr",
     "output_type": "stream",
     "text": [
      "Epoch 0, loss 12904.9395, reconstruction_loss 12899.7462, kl_loss 5.1933, disc_loss -69966.4163, gen_loss 108864.5467:   2%|▏         | 296/18016 [01:31<1:29:38,  3.29it/s]"
     ]
    },
    {
     "name": "stdout",
     "output_type": "stream",
     "text": [
      "Z shape torch.Size([4, 512]) X shape  torch.Size([4, 3, 3, 300, 300])\n",
      "Y.shape First torch.Size([4, 256, 64, 64])\n",
      "Y.shape Second torch.Size([4, 256, 32, 32])\n",
      "Y.shape First torch.Size([4, 256, 64, 64])\n",
      "Y.shape Second torch.Size([4, 256, 32, 32])\n",
      "Y.shape First torch.Size([4, 256, 64, 64])\n",
      "Y.shape Second torch.Size([4, 256, 32, 32])\n"
     ]
    },
    {
     "name": "stderr",
     "output_type": "stream",
     "text": [
      "Epoch 0, loss 12889.7092, reconstruction_loss 12884.5137, kl_loss 5.1956, disc_loss -74345.2683, gen_loss 114063.5993:   2%|▏         | 300/18016 [01:32<1:29:50,  3.29it/s]"
     ]
    },
    {
     "name": "stdout",
     "output_type": "stream",
     "text": [
      "Z shape torch.Size([4, 512]) X shape  torch.Size([4, 3, 3, 300, 300])\n",
      "Y.shape First torch.Size([4, 256, 64, 64])\n",
      "Y.shape Second torch.Size([4, 256, 32, 32])\n",
      "Y.shape First torch.Size([4, 256, 64, 64])\n",
      "Y.shape Second torch.Size([4, 256, 32, 32])\n",
      "Y.shape First torch.Size([4, 256, 64, 64])\n",
      "Y.shape Second torch.Size([4, 256, 32, 32])\n"
     ]
    },
    {
     "name": "stderr",
     "output_type": "stream",
     "text": [
      "Epoch 0, loss 12867.0751, reconstruction_loss 12861.8832, kl_loss 5.1919, disc_loss -79553.6098, gen_loss 119574.2921:   2%|▏         | 304/18016 [01:33<1:29:33,  3.30it/s]"
     ]
    },
    {
     "name": "stdout",
     "output_type": "stream",
     "text": [
      "Z shape torch.Size([4, 512]) X shape  torch.Size([4, 3, 3, 300, 300])\n",
      "Y.shape First torch.Size([4, 256, 64, 64])\n",
      "Y.shape Second torch.Size([4, 256, 32, 32])\n",
      "Y.shape First torch.Size([4, 256, 64, 64])\n",
      "Y.shape Second torch.Size([4, 256, 32, 32])\n",
      "Y.shape First torch.Size([4, 256, 64, 64])\n",
      "Y.shape Second torch.Size([4, 256, 32, 32])\n"
     ]
    },
    {
     "name": "stderr",
     "output_type": "stream",
     "text": [
      "Epoch 0, loss 12880.0652, reconstruction_loss 12874.8433, kl_loss 5.2219, disc_loss -85155.0816, gen_loss 125513.3853:   2%|▏         | 308/18016 [01:34<1:29:19,  3.30it/s]"
     ]
    },
    {
     "name": "stdout",
     "output_type": "stream",
     "text": [
      "Z shape torch.Size([4, 512]) X shape  torch.Size([4, 3, 3, 300, 300])\n",
      "Y.shape First torch.Size([4, 256, 64, 64])\n",
      "Y.shape Second torch.Size([4, 256, 32, 32])\n",
      "Y.shape First torch.Size([4, 256, 64, 64])\n",
      "Y.shape Second torch.Size([4, 256, 32, 32])\n",
      "Y.shape First torch.Size([4, 256, 64, 64])\n",
      "Y.shape Second torch.Size([4, 256, 32, 32])\n"
     ]
    },
    {
     "name": "stderr",
     "output_type": "stream",
     "text": [
      "Epoch 0, loss 12865.9396, reconstruction_loss 12860.7003, kl_loss 5.2394, disc_loss -91199.6986, gen_loss 131934.0484:   2%|▏         | 312/18016 [01:36<1:29:31,  3.30it/s]"
     ]
    },
    {
     "name": "stdout",
     "output_type": "stream",
     "text": [
      "Z shape torch.Size([4, 512]) X shape  torch.Size([4, 3, 3, 300, 300])\n",
      "Y.shape First torch.Size([4, 256, 64, 64])\n",
      "Y.shape Second torch.Size([4, 256, 32, 32])\n",
      "Y.shape First torch.Size([4, 256, 64, 64])\n",
      "Y.shape Second torch.Size([4, 256, 32, 32])\n",
      "Y.shape First torch.Size([4, 256, 64, 64])\n",
      "Y.shape Second torch.Size([4, 256, 32, 32])\n"
     ]
    },
    {
     "name": "stderr",
     "output_type": "stream",
     "text": [
      "Epoch 0, loss 12862.9641, reconstruction_loss 12857.7301, kl_loss 5.2340, disc_loss -97257.4794, gen_loss 138371.0539:   2%|▏         | 316/18016 [01:37<1:29:35,  3.29it/s]"
     ]
    },
    {
     "name": "stdout",
     "output_type": "stream",
     "text": [
      "Z shape torch.Size([4, 512]) X shape  torch.Size([4, 3, 3, 300, 300])\n",
      "Y.shape First torch.Size([4, 256, 64, 64])\n",
      "Y.shape Second torch.Size([4, 256, 32, 32])\n",
      "Y.shape First torch.Size([4, 256, 64, 64])\n",
      "Y.shape Second torch.Size([4, 256, 32, 32])\n",
      "Y.shape First torch.Size([4, 256, 64, 64])\n",
      "Y.shape Second torch.Size([4, 256, 32, 32])\n"
     ]
    },
    {
     "name": "stderr",
     "output_type": "stream",
     "text": [
      "Epoch 0, loss 12860.9130, reconstruction_loss 12855.6732, kl_loss 5.2398, disc_loss -103503.9145, gen_loss 145025.8738:   2%|▏         | 320/18016 [01:38<1:29:23,  3.30it/s]"
     ]
    },
    {
     "name": "stdout",
     "output_type": "stream",
     "text": [
      "Z shape torch.Size([4, 512]) X shape  torch.Size([4, 3, 3, 300, 300])\n",
      "Y.shape First torch.Size([4, 256, 64, 64])\n",
      "Y.shape Second torch.Size([4, 256, 32, 32])\n",
      "Y.shape First torch.Size([4, 256, 64, 64])\n",
      "Y.shape Second torch.Size([4, 256, 32, 32])\n",
      "Y.shape First torch.Size([4, 256, 64, 64])\n",
      "Y.shape Second torch.Size([4, 256, 32, 32])\n"
     ]
    },
    {
     "name": "stderr",
     "output_type": "stream",
     "text": [
      "Epoch 0, loss 12865.4097, reconstruction_loss 12860.1639, kl_loss 5.2458, disc_loss -110402.1672, gen_loss 152376.6596:   2%|▏         | 324/18016 [01:39<1:29:29,  3.29it/s]"
     ]
    },
    {
     "name": "stdout",
     "output_type": "stream",
     "text": [
      "Z shape torch.Size([4, 512]) X shape  torch.Size([4, 3, 3, 300, 300])\n",
      "Y.shape First torch.Size([4, 256, 64, 64])\n",
      "Y.shape Second torch.Size([4, 256, 32, 32])\n",
      "Y.shape First torch.Size([4, 256, 64, 64])\n",
      "Y.shape Second torch.Size([4, 256, 32, 32])\n",
      "Y.shape First torch.Size([4, 256, 64, 64])\n",
      "Y.shape Second torch.Size([4, 256, 32, 32])\n"
     ]
    },
    {
     "name": "stderr",
     "output_type": "stream",
     "text": [
      "Epoch 0, loss 12869.7134, reconstruction_loss 12864.4814, kl_loss 5.2321, disc_loss -118475.1338, gen_loss 161060.2262:   2%|▏         | 328/18016 [01:40<1:29:22,  3.30it/s]"
     ]
    },
    {
     "name": "stdout",
     "output_type": "stream",
     "text": [
      "Z shape torch.Size([4, 512]) X shape  torch.Size([4, 3, 3, 300, 300])\n",
      "Y.shape First torch.Size([4, 256, 64, 64])\n",
      "Y.shape Second torch.Size([4, 256, 32, 32])\n",
      "Y.shape First torch.Size([4, 256, 64, 64])\n",
      "Y.shape Second torch.Size([4, 256, 32, 32])\n",
      "Y.shape First torch.Size([4, 256, 64, 64])\n",
      "Y.shape Second torch.Size([4, 256, 32, 32])\n"
     ]
    },
    {
     "name": "stderr",
     "output_type": "stream",
     "text": [
      "Epoch 0, loss 12858.9876, reconstruction_loss 12853.7650, kl_loss 5.2226, disc_loss -127454.1390, gen_loss 170707.0750:   2%|▏         | 332/18016 [01:42<1:29:26,  3.30it/s]"
     ]
    },
    {
     "name": "stdout",
     "output_type": "stream",
     "text": [
      "Z shape torch.Size([4, 512]) X shape  torch.Size([4, 3, 3, 300, 300])\n",
      "Y.shape First torch.Size([4, 256, 64, 64])\n",
      "Y.shape Second torch.Size([4, 256, 32, 32])\n",
      "Y.shape First torch.Size([4, 256, 64, 64])\n",
      "Y.shape Second torch.Size([4, 256, 32, 32])\n",
      "Y.shape First torch.Size([4, 256, 64, 64])\n",
      "Y.shape Second torch.Size([4, 256, 32, 32])\n"
     ]
    },
    {
     "name": "stderr",
     "output_type": "stream",
     "text": [
      "Epoch 0, loss 12861.9415, reconstruction_loss 12856.7100, kl_loss 5.2315, disc_loss -136933.2157, gen_loss 180946.4568:   2%|▏         | 336/18016 [01:43<1:29:30,  3.29it/s]"
     ]
    },
    {
     "name": "stdout",
     "output_type": "stream",
     "text": [
      "Z shape torch.Size([4, 512]) X shape  torch.Size([4, 3, 3, 300, 300])\n",
      "Y.shape First torch.Size([4, 256, 64, 64])\n",
      "Y.shape Second torch.Size([4, 256, 32, 32])\n",
      "Y.shape First torch.Size([4, 256, 64, 64])\n",
      "Y.shape Second torch.Size([4, 256, 32, 32])\n",
      "Y.shape First torch.Size([4, 256, 64, 64])\n",
      "Y.shape Second torch.Size([4, 256, 32, 32])\n"
     ]
    }
   ],
   "source": [
    "import os\n",
    "import sys\n",
    "import json\n",
    "os.path.dirname(sys.executable)\n",
    "sys.path.append(\"/kuacc/users/ckoksal20/COMP547Project/SSuperGAN/\")\n",
    "\n",
    "import torch\n",
    "from torch import optim\n",
    "from torch.utils.data import DataLoader\n",
    "from data.datasets.random_dataset import RandomDataset\n",
    "from data.datasets.golden_faces import GoldenFacesDataset\n",
    "from data.datasets.golden_panels import GoldenPanelsDataset\n",
    "\n",
    "from training.ssuper_msgan_trainer import SSuperMSGGANTrainer\n",
    "\n",
    "from utils.config_utils import read_config, Config\n",
    "from utils.logging_utils import *\n",
    "from utils.plot_utils import *\n",
    "from utils import pytorch_util as ptu\n",
    "from configs.base_config import *\n",
    "\n",
    "from networks.ssuper_msggan import SSuperMSGGAN\n",
    "\n",
    "import torch.nn as nn\n",
    "\n",
    "from functional.losses.msggan_losses import *\n",
    "\n",
    "\n",
    "def save_best_loss_model(model_name, model, best_loss):\n",
    "    # print('current best loss: ' + str(best_loss))\n",
    "    logging.info('Current best loss: ' + str(best_loss))\n",
    "    torch.save(model, base_dir + 'playground/ssuper_dcgan/weights/' + model_name + \".pth\")\n",
    "\n",
    "\n",
    "\n",
    "\n",
    "def train(data_loader,config,dataset, model_name='ssuper_dcgan',):\n",
    "    # loading config\n",
    "    logging.info(\"[INFO] Initiate training...\")\n",
    "\n",
    "    # creating model and training details\n",
    "\n",
    "    net = SSuperMSGGAN(config.backbone, \n",
    "                    latent_dim=config.latent_dim, \n",
    "                    embed_dim=config.embed_dim,\n",
    "                    use_lstm=config.use_lstm,\n",
    "                    seq_size=config.seq_size,\n",
    "                    lstm_hidden=config.lstm_hidden,\n",
    "                    lstm_dropout=config.lstm_dropout,\n",
    "                    fc_hidden_dims=config.fc_hidden_dims,\n",
    "                    fc_dropout=config.fc_dropout,\n",
    "                    num_lstm_layers=config.num_lstm_layers,\n",
    "                    masked_first=config.masked_first,\n",
    "                    depth = config.depth,\n",
    "                    use_eql = config.use_eql,\n",
    "                    use_ema = config.use_ema,\n",
    "                    ema_decay = config.ema_decay).to(ptu.device)  \n",
    "    \n",
    "    #print(net)\n",
    "    \n",
    "\n",
    "\n",
    "\n",
    "    # Setup Adam optimizers for both G and D\n",
    "\n",
    "    optimizer_encoder = optim.Adam(net.encoder.parameters(), lr=config.lr)\n",
    "\n",
    "    gen_params = [{'params': net.gan.gen.style.parameters(), 'lr': config.g_lr * 0.01, 'mult': 0.01},\n",
    "                  {'params': net.gan.gen.layers.parameters(), 'lr': config.g_lr},\n",
    "                  {'params': net.gan.gen.rgb_converters.parameters(), 'lr': config.g_lr}]\n",
    "    gen_optim = torch.optim.Adam(gen_params, config.g_lr,\n",
    "                              [config.beta_1, config.beta_2])\n",
    "\n",
    "    dis_optim = torch.optim.Adam(net.gan.dis.parameters(), config.d_lr,\n",
    "                              [config.beta_1, config.beta_2])\n",
    "\n",
    "\n",
    "    print(\"Total epochs \",config.train_epochs)\n",
    "\n",
    "    loss_name = config.loss_function.lower()\n",
    "\n",
    "    if loss_name == \"hinge\":\n",
    "        loss = HingeGAN\n",
    "    elif loss_name == \"relativistic-hinge\":\n",
    "        loss = RelativisticAverageHingeGAN\n",
    "    elif loss_name == \"standard-gan\":\n",
    "        loss = StandardGAN\n",
    "    elif loss_name == \"lsgan\":\n",
    "        loss = LSGAN\n",
    "    elif loss_name == \"lsgan-sigmoid\":\n",
    "        loss = LSGAN_SIGMOID\n",
    "    elif loss_name == \"wgan-gp\":\n",
    "        loss = WGAN_GP\n",
    "    else:\n",
    "        raise Exception(\"Unknown loss function requested\")\n",
    "\n",
    "    \n",
    "    # init trainer\n",
    "    trainer = SSuperMSGGANTrainer(model=net,\n",
    "                         model_name=model_name,\n",
    "                         train_loader=data_loader,\n",
    "                         test_loader=None,\n",
    "                         criterion= loss(net.gan.dis),\n",
    "                         epochs=config.train_epochs,\n",
    "                         optimizer_encoder=optimizer_encoder,\n",
    "                         optimizer_generator= gen_optim,\n",
    "                         optimized_discriminator= dis_optim,\n",
    "                         grad_clip=config.g_clip,\n",
    "                         best_loss_action=lambda m, l: save_best_loss_model(model_name, m, l),\n",
    "                         save_dir=base_dir + 'playground/ssuper_msggan',\n",
    "                         checkpoint_every_epoch=True\n",
    "                        )\n",
    "\n",
    "\n",
    "\n",
    "    losses, test_losses = trainer.train_epochs()\n",
    "\n",
    "    logging.info(\"[INFO] Completed training!\")\n",
    "    \n",
    "    #print(\"Losses \",losses)\n",
    "    save_training_plot(losses['gen_loss'],\n",
    "                       losses['disc_loss'],\n",
    "                       \"SSPUPER_MSGGAN  Losses\",\n",
    "                       base_dir + 'playground/ssuper_msggan/' + f'results/{model_name}_plot.png'\n",
    "                      )\n",
    "    return net\n",
    "\n",
    "\n",
    "if __name__ == '__main__':\n",
    "    ptu.set_gpu_mode(True)\n",
    "    \n",
    "    config = read_config(Config.SSUPER_MSGGAN)\n",
    "    golden_age_config = read_config(Config.GOLDEN_AGE)\n",
    "    cont_epoch = -1\n",
    "    cont_model = None # \"playground/ssupervae/weights/model-18.pth\"\n",
    "    \n",
    "    # data = RandomDataset((3, 3, 360, 360), (3, config.image_dim, config.image_dim))\n",
    "    data = GoldenPanelsDataset(golden_age_config.panel_path,\n",
    "                               golden_age_config.sequence_path, \n",
    "                               golden_age_config.panel_dim,\n",
    "                               config.image_dim, \n",
    "                               augment=False, \n",
    "                               mask_val=golden_age_config.mask_val,\n",
    "                               mask_all=golden_age_config.mask_all,\n",
    "                               return_mask=golden_age_config.return_mask,\n",
    "                               train_test_ratio=golden_age_config.train_test_ratio,\n",
    "                               train_mode=True,\n",
    "                               limit_size=-1)\n",
    "    data_loader = DataLoader(data, batch_size=config.batch_size, shuffle=True, num_workers=4)\n",
    "    \n",
    "    if config.use_lstm:\n",
    "        model_name =\"lstm_ssuper_msggan_model\"\n",
    "    else:\n",
    "        model_name =\"plain_ssuper_msggan_model\"\n",
    "    \n",
    "    \n",
    "    \n",
    "    model = train(data_loader, config, model_name)\n",
    "    torch.save(model, base_dir + 'playground/ssuper_msggan/results/' + \"ssuper_msggan_model.pth\")\n",
    "        \n",
    "    \n",
    "        \n",
    "        "
   ]
  },
  {
   "cell_type": "code",
   "execution_count": null,
   "metadata": {},
   "outputs": [],
   "source": []
  }
 ],
 "metadata": {
  "kernelspec": {
   "display_name": "detectron2",
   "language": "python",
   "name": "detectron2"
  },
  "language_info": {
   "codemirror_mode": {
    "name": "ipython",
    "version": 3
   },
   "file_extension": ".py",
   "mimetype": "text/x-python",
   "name": "python",
   "nbconvert_exporter": "python",
   "pygments_lexer": "ipython3",
   "version": "3.8.5"
  }
 },
 "nbformat": 4,
 "nbformat_minor": 4
}
